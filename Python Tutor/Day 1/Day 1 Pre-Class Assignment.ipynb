{
 "cells": [
  {
   "cell_type": "markdown",
   "metadata": {},
   "source": [
    "# Day 1 Pre-class Assignment: Intro to Jupyter and Python\n",
    "---"
   ]
  },
  {
   "cell_type": "markdown",
   "metadata": {},
   "source": [
    "## Goals for today's pre-class assignment\n",
    "\n",
    "* Learn about Jupyter notebooks and Markdown \n",
    "* Write a Python program to make simple calculations\n",
    "* Work with number and string data types\n",
    "* Work with the list data type"
   ]
  },
  {
   "cell_type": "markdown",
   "metadata": {},
   "source": [
    "I hope this notebook finds you well. I am catering this material so that it will:-\n",
    "\n",
    "1) not have too many texts\n",
    "\n",
    "2) not feel overwhelming\n",
    "\n",
    "3) friendly and specific to you\n",
    "\n",
    "Hence, you will find **short videos** instead of  texts in which you can watch again and again. The format of our tutoring will be like this for most of the time. We will have a short **pre-class assignment** that should not take you more than an hour and an **in-class assignment** where most of our heavy-lifting will be at since I'll be there **with you and for you**!"
   ]
  },
  {
   "cell_type": "markdown",
   "metadata": {},
   "source": [
    "---\n",
    "## Part 1: Jupyter Notebook"
   ]
  },
  {
   "cell_type": "markdown",
   "metadata": {},
   "source": [
    "&#9989; Do This - Click the cell below and click **Run** button up there. Watch the YouTube video."
   ]
  },
  {
   "cell_type": "code",
   "execution_count": null,
   "metadata": {},
   "outputs": [],
   "source": [
    "from IPython.display import YouTubeVideo\n",
    "YouTubeVideo(\"MwdAkp1iGMI\",width=640,height=360)"
   ]
  },
  {
   "cell_type": "markdown",
   "metadata": {},
   "source": [
    "**Question 1:** Create a cell below, write your first name in italics and last name in bold. "
   ]
  },
  {
   "cell_type": "markdown",
   "metadata": {},
   "source": [
    "---\n",
    "Easy, right? There are some shortcuts I would really recommend you to use! One being `Shift+Enter` to run the current cell and proceed to the next.\n",
    "\n",
    "### Common Jupyter short keys\n",
    "\n",
    "These are the most common used short keys:\n",
    "\n",
    "- Esc + a -- Open a new cell above\n",
    "- Esc + b -- Open a new cell below\n",
    "- Shift + Enter -- Run the cell, and go to next one\n",
    "- Ctrl + Enter -- Run the cell and stay there\n",
    "- Alt + Enter -- Run the cell, and make a new one (Option-key for Mac)\n",
    "- Ctrl + / -- Comment or Uncomment your selection\n",
    "- Esc + m -- Change cell type into Markdown (text modus). Then run again with Crtl+Enter\n",
    "- Esc + y -- Change cell type into Code (code modus). Then run again with Crtl+Enter\n"
   ]
  },
  {
   "cell_type": "markdown",
   "metadata": {},
   "source": [
    "---\n",
    "## Part 2: Basics of Python"
   ]
  },
  {
   "cell_type": "markdown",
   "metadata": {},
   "source": [
    "Now that that's done, let's jump right into Python!"
   ]
  },
  {
   "cell_type": "markdown",
   "metadata": {},
   "source": [
    "&#9989; Do This - **Run** the cell below and watch the YouTube video"
   ]
  },
  {
   "cell_type": "code",
   "execution_count": null,
   "metadata": {},
   "outputs": [],
   "source": [
    "YouTubeVideo(\"yZ1h4bFxduA\",width=640,height=360)"
   ]
  },
  {
   "cell_type": "markdown",
   "metadata": {},
   "source": [
    "**Question 1:** In the cell below, write a simple program to calculate the area of a rectangle.\n",
    "\n",
    "- Make a length, and width\n",
    "- Create an answer with the product of both\n",
    "- Print the answer!"
   ]
  },
  {
   "cell_type": "code",
   "execution_count": null,
   "metadata": {},
   "outputs": [],
   "source": []
  },
  {
   "cell_type": "markdown",
   "metadata": {},
   "source": [
    "**Question 2 (BONUS):** In the cell below, write a simple program to calculate the area of a circle. Do it however you feel like."
   ]
  },
  {
   "cell_type": "code",
   "execution_count": null,
   "metadata": {},
   "outputs": [],
   "source": []
  },
  {
   "cell_type": "markdown",
   "metadata": {},
   "source": [
    "---\n",
    "## Part 3: Different Types of Data"
   ]
  },
  {
   "cell_type": "markdown",
   "metadata": {},
   "source": [
    "&#9989; Do This - You know what to do by now! (hahahaha)"
   ]
  },
  {
   "cell_type": "code",
   "execution_count": null,
   "metadata": {},
   "outputs": [],
   "source": [
    "YouTubeVideo(\"90A-auqqBOQ\",width=640,height=360)"
   ]
  },
  {
   "cell_type": "markdown",
   "metadata": {},
   "source": [
    "**Question 3:** In the cells below,\n",
    "    \n",
    "* Create a variable containing a **floating-point number** and a second variable containing an **integer**\n",
    "* Add them together, and store the result in a new variable\n",
    "* Print out the **last** value in variable\n",
    "\n",
    "From here on out, feel free to use more than one cell if you need to print out multiple quantities!"
   ]
  },
  {
   "cell_type": "code",
   "execution_count": null,
   "metadata": {},
   "outputs": [],
   "source": []
  },
  {
   "cell_type": "markdown",
   "metadata": {},
   "source": [
    "**Question 4:** In the cells below,\n",
    "    \n",
    "* Turn both of them into strings (hint: use `str()`)\n",
    "* Add them together, and store the result in a new variable (we call *adding strings* as concatenate)\n",
    "* Print out the **last** value in your variable\n"
   ]
  },
  {
   "cell_type": "code",
   "execution_count": null,
   "metadata": {},
   "outputs": [],
   "source": []
  },
  {
   "cell_type": "markdown",
   "metadata": {},
   "source": [
    "**Question 5:** In the cells below,\n",
    "    \n",
    "* Create a variable containing a **floating-point number** and a second variable containing an **integer** (i.e `a = 1.2` and `b = 34`)\n",
    "* Perform different mathematical operations on both and store the result in a new variable (i.e `c = a + b`)\n",
    "* Print out the **last** value in your variable and comment (using `#`) to make notes what they do\n",
    "\n",
    "Make sure you try and figure out what these operations are!\n",
    "\n",
    "| Symbol |\n",
    "|----|\n",
    "| <font color=purple>**+**</font>|\n",
    "| <font color=purple>**-**</font>|\n",
    "| <font color=purple>**/**</font>|\n",
    "| <font color=purple>*</font>|\n",
    "| <font color=purple>******</font>|\n",
    "| <font color=purple>**//**</font>|\n",
    "| <font color=purple>**%**</font>|"
   ]
  },
  {
   "cell_type": "code",
   "execution_count": null,
   "metadata": {},
   "outputs": [],
   "source": []
  },
  {
   "cell_type": "markdown",
   "metadata": {},
   "source": [
    "---\n",
    "### Assignment wrap-up\n",
    "\n",
    "I hope you enjoy all these videos and exercises! Make sure you try (doesn't matter if you fail along the way!) everything and **take notes** of what you're confused of.\n",
    "\n",
    "Be sure to **send me an email or text** of *all* the things you understand (and most importantly) don't understand! I'll make sure to address them and emphasize more on our in-class session."
   ]
  },
  {
   "cell_type": "markdown",
   "metadata": {},
   "source": [
    "-----\n",
    "# Congratulations, you're done with your first in-class assignment!"
   ]
  },
  {
   "cell_type": "markdown",
   "metadata": {},
   "source": [
    "&#169; Copyright 2020,  Amani Ahnuar"
   ]
  }
 ],
 "metadata": {
  "kernelspec": {
   "display_name": "Python 3",
   "language": "python",
   "name": "python3"
  },
  "language_info": {
   "codemirror_mode": {
    "name": "ipython",
    "version": 3
   },
   "file_extension": ".py",
   "mimetype": "text/x-python",
   "name": "python",
   "nbconvert_exporter": "python",
   "pygments_lexer": "ipython3",
   "version": "3.8.3"
  }
 },
 "nbformat": 4,
 "nbformat_minor": 4
}
