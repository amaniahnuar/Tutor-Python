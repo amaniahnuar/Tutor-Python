{
 "cells": [
  {
   "cell_type": "markdown",
   "metadata": {},
   "source": [
    "# Day 3 In-class Assignment: If-Else Integration and Functions\n",
    "---"
   ]
  },
  {
   "cell_type": "markdown",
   "metadata": {},
   "source": [
    "## Goals for today's in-class assignment\n",
    "\n",
    "* Work on exercises on if-else and functions\n",
    "* Make a program that tells differences, finding the highest point, making calculator-functions, list-operator, distance functions "
   ]
  },
  {
   "cell_type": "markdown",
   "metadata": {},
   "source": [
    "---\n",
    "## Challenge Revision: Fibonacci Sequence"
   ]
  },
  {
   "cell_type": "markdown",
   "metadata": {},
   "source": [
    "Below is a version of solution for the last challenge. Comments are placed so you can read and understand how to do the solution."
   ]
  },
  {
   "cell_type": "code",
   "execution_count": 1,
   "metadata": {},
   "outputs": [
    {
     "name": "stdout",
     "output_type": "stream",
     "text": [
      "[1, 1, 2, 3, 5, 8, 13, 21, 34, 55, 89, 144]\n"
     ]
    }
   ],
   "source": [
    "F = [1, 1]\n",
    "\n",
    "# A loop for finding out the next-10 number in the sequence\n",
    "for i in range(10):\n",
    "    # Finding out the latest-two-numbers in the sequence\n",
    "    newest_number = F[-1]\n",
    "    second_newest_number = F[-2]\n",
    "    # Computing the next number in the sequence\n",
    "    next_F  = newest_number + second_newest_number\n",
    "    # Appending into the list\n",
    "    F.append(next_F)\n",
    "\n",
    "print(F)"
   ]
  },
  {
   "cell_type": "code",
   "execution_count": 2,
   "metadata": {},
   "outputs": [
    {
     "name": "stdout",
     "output_type": "stream",
     "text": [
      "[1, 1, 2, 3, 5, 8, 13, 21, 34, 55, 89, 144]\n"
     ]
    }
   ],
   "source": [
    "F = [1, 1]\n",
    "\n",
    "for i in range(10):F.append( F[-1] + F[-2] )\n",
    "    \n",
    "print(F)"
   ]
  },
  {
   "cell_type": "markdown",
   "metadata": {},
   "source": [
    "---\n",
    "## Part 1: Exercises"
   ]
  },
  {
   "cell_type": "markdown",
   "metadata": {},
   "source": [
    "**Reminder: These exercises are meant to be ambiguous so you will learn thru trials-and-error (one of the best teachers)**"
   ]
  },
  {
   "cell_type": "markdown",
   "metadata": {},
   "source": [
    "### Part 1.1: If-Else"
   ]
  },
  {
   "cell_type": "markdown",
   "metadata": {},
   "source": [
    "**Question 1:** Create a program that will compare between two different numbers, `num1`, and `num2`. Use `if-else`.\n",
    "\n",
    "- If `num1` is bigger than `num2`, it should print out `\"num1 is bigger than num2\"`.\n",
    "- If `num2` is bigger than `num1`, it should print out `\"num2 is bigger than num1\"`."
   ]
  },
  {
   "cell_type": "code",
   "execution_count": null,
   "metadata": {},
   "outputs": [],
   "source": [
    "# These are the variables to be compared\n",
    "num1 = 123\n",
    "num2 = 40\n",
    "\n",
    "# Put your codes below\n"
   ]
  },
  {
   "cell_type": "markdown",
   "metadata": {},
   "source": [
    "**Question 2:** Create a program that will compare between three different numbers, `num1`, `num2`, and `num3`. Use `if-else` inside of `if-else` (nested).\n",
    "\n",
    "- If `num1` is bigger than `num2` and `num3`, then `num2` is bigger than `num3` it should print out `\"num1 is the biggest\"`, and `\"num3 is the smallest\"`.\n",
    "- If `num1` is bigger than `num2` and `num3`, then `num3` is bigger than `num2` it should print out `\"num1 is the biggest\"`, and `\"num2 is the smallest\"`.\n",
    "\n",
    "For this case, there should be 6 cases of arrangements who's the biggest and who's the smallest, but these two cases are enough."
   ]
  },
  {
   "cell_type": "code",
   "execution_count": null,
   "metadata": {},
   "outputs": [],
   "source": [
    "# These are the variables to be compared\n",
    "num1 = 123\n",
    "num2 = 40\n",
    "num3 = 79\n",
    "\n",
    "# Put your codes below\n"
   ]
  },
  {
   "cell_type": "markdown",
   "metadata": {},
   "source": [
    "**Question 3:** Given the list `lol` of 100 random numbers, use loops and `if-else`to check one by one, what is the biggest number in the list?"
   ]
  },
  {
   "cell_type": "code",
   "execution_count": 8,
   "metadata": {},
   "outputs": [],
   "source": [
    "# The lol list (lol!)\n",
    "lol = [52.33536143, 13.99414386, 31.74231938, 76.8204354 , 55.58789099,  1.79391675, 50.39087965, 76.25208978, 31.95851156, 62.7297019 , 56.10743442, 55.14542335, 73.43012407, 90.20759937, 69.99181702, 51.05085598, 63.32281434, 76.65192208, 44.32404351, 56.80064796, 68.56183042, 32.41850922, 89.2528062 , 78.02565333, 89.57800704,  5.10680871, 50.23586654, 23.44932475, 70.94746218, 34.93600451, 62.14957696, 54.58485623, 21.23138372, 81.30449989, 10.43071324, 26.5000174 , 44.92515109, 41.15363511, 44.57928606,  8.10188173,  7.41086357, 30.80380935, 66.69070756,  1.20550264, 91.84133766, 39.02879471, 86.708241  ,  5.02714853, 37.53293328,  3.37183312, 66.0225929 ,  9.4849101 , 23.90011628,  0.31341725, 87.01264815, 48.08913055, 65.4525776 , 83.17805046,  0.20045682, 54.17659042, 50.25537729, 76.23525012, 41.46940441, 79.83960872, 52.19854814,  3.01899785, 60.65313186,  1.21027572, 70.88007278, 42.48420769, 43.90653672, 60.72688339,  6.16054727, 68.2623322 , 53.17898683, 60.97910471, 42.58464855, 67.74117738, 84.56446595, 15.59331697, 26.01599712, 74.02233436,  4.78210274, 42.89233408, 66.77371152, 48.11347616, 52.51834412, 96.89894585, 56.15265845, 34.97561263, 10.70460842, 64.57202665, 77.23411653,  8.13839538, 96.53972405, 75.12737076,  8.68094421, 49.95766546, 14.37703239, 79.49345321]\n",
    "\n",
    "# Your code below (don't try to scroll and search by eye, I can assure you they're all random and unique)\n"
   ]
  },
  {
   "cell_type": "markdown",
   "metadata": {},
   "source": [
    "### Part 1.2: Functions"
   ]
  },
  {
   "cell_type": "markdown",
   "metadata": {},
   "source": [
    "**Question 1:** Create a function that **doesn't take in any parameters** that will print out your **full name**. Call the function to test it out."
   ]
  },
  {
   "cell_type": "code",
   "execution_count": null,
   "metadata": {
    "scrolled": true
   },
   "outputs": [],
   "source": []
  },
  {
   "cell_type": "markdown",
   "metadata": {},
   "source": [
    "**Question 2:** Create a function that will take in **two numbers**, it will **add** them up together and prints the result. Call the function to test it out."
   ]
  },
  {
   "cell_type": "code",
   "execution_count": null,
   "metadata": {},
   "outputs": [],
   "source": []
  },
  {
   "cell_type": "markdown",
   "metadata": {},
   "source": [
    "**Question 3:** Create a function that will take in **two numbers**, check which one is **bigger** and prints that number out. Call the function to test it out. (*Hint: use `if-else`)"
   ]
  },
  {
   "cell_type": "code",
   "execution_count": 12,
   "metadata": {},
   "outputs": [],
   "source": []
  },
  {
   "cell_type": "markdown",
   "metadata": {},
   "source": [
    "**Question 4:** Python cannot divide any number by 0. Create a function that will take in **two numbers**. If the second number is **not zero**, it prints out the division of first number to second number. If the second number is **zero**, prints out an error i.e `\"Error. Cannot divide by zero\"`. Call the function to test it out. (*Hint: use `if-else`)"
   ]
  },
  {
   "cell_type": "code",
   "execution_count": null,
   "metadata": {},
   "outputs": [],
   "source": []
  },
  {
   "cell_type": "markdown",
   "metadata": {},
   "source": [
    "---\n",
    "## Part 2: Problem Solving"
   ]
  },
  {
   "cell_type": "markdown",
   "metadata": {},
   "source": [
    "**Return or Print?**"
   ]
  },
  {
   "cell_type": "markdown",
   "metadata": {},
   "source": [
    "Before we start, let's have a discussion between a function that `print` and a function that `return`. Both are very different and you will soon see why return is generally more excepted. Below are **two different** functions, one with `print` and the other with `return`."
   ]
  },
  {
   "cell_type": "code",
   "execution_count": null,
   "metadata": {},
   "outputs": [],
   "source": [
    "def add_p(num1, num2):\n",
    "    print(num1 + num2)\n",
    "    \n",
    "def add_r(num1, num2):\n",
    "    return num1 + num2"
   ]
  },
  {
   "cell_type": "markdown",
   "metadata": {},
   "source": [
    "This works right?"
   ]
  },
  {
   "cell_type": "code",
   "execution_count": null,
   "metadata": {},
   "outputs": [],
   "source": [
    "add_p(2,3)"
   ]
  },
  {
   "cell_type": "markdown",
   "metadata": {},
   "source": [
    "How about this?"
   ]
  },
  {
   "cell_type": "code",
   "execution_count": null,
   "metadata": {
    "scrolled": true
   },
   "outputs": [],
   "source": [
    "result_p = add_p(2,3)\n",
    "print(result_p + 2)"
   ]
  },
  {
   "cell_type": "markdown",
   "metadata": {},
   "source": [
    "Try this now"
   ]
  },
  {
   "cell_type": "code",
   "execution_count": null,
   "metadata": {},
   "outputs": [],
   "source": [
    "result_r = add_r(2,3)\n",
    "print(result_r + 2)"
   ]
  },
  {
   "cell_type": "markdown",
   "metadata": {},
   "source": [
    "**Problem 1:** Create a function, `calc()` that takes in **2 number** and **a string**. It will perform mathematical operation that the string gives (i.e if `\"+\"`, it will add both numbers) and later **return the result**. Use `if-else` for the mathematical operations choices. There should be **4** choices; *addition*, subtraction*, multiplication*, and *division.*\n",
    "\n",
    "Plan:\n",
    "* Define a function that takes 3 parameters\n",
    "* Use `if-else` to check the third parameter either it is string +, -, x or /\n",
    "* Perform the mathematical operation and return the result"
   ]
  },
  {
   "cell_type": "code",
   "execution_count": null,
   "metadata": {},
   "outputs": [],
   "source": []
  },
  {
   "cell_type": "markdown",
   "metadata": {},
   "source": [
    "**Problem 2:** Create a function, `dist()` that takes in **4 numbers**. They are coordinates for x and y of two different locations i.e `x1,y1` and `x2,y2`. The function will **print** 1) the \"grid\" distance: `(x2 - x1) + (y2 - y1)` and 2) the \"diagonal\" distance: `( (x2-x1)**2 + (y2-y1)**2 )**0.5`\n",
    "\n",
    "Plan:\n",
    "* Define a function that takes 4 parameters\n",
    "* Use two formulas to compute the distances and store in separate variables\n",
    "* Print two results (anyway you like)"
   ]
  },
  {
   "cell_type": "code",
   "execution_count": null,
   "metadata": {},
   "outputs": [],
   "source": []
  },
  {
   "cell_type": "markdown",
   "metadata": {},
   "source": [
    "**Problem 3:** Create a function that takes in **a list of numbers**. It will **add all the numbers** in the list and **return** the result.\n",
    "\n",
    "There is no given plan. I would highly suggest you come out with your own plan for this exercise."
   ]
  },
  {
   "cell_type": "code",
   "execution_count": null,
   "metadata": {},
   "outputs": [],
   "source": [
    "# You may test on the list below\n",
    "num = [1,4,9,0,3,5,7,2,9,4,6,7,2,4,1]\n"
   ]
  },
  {
   "cell_type": "markdown",
   "metadata": {},
   "source": [
    "---\n",
    "### Assignment wrap-up\n",
    "\n",
    "I hope you enjoy all these exercises! Make sure you try (doesn't matter if you fail along the way!) everything and **take notes** of what you're confused of.\n",
    "\n",
    "Be sure to **send me an email or text** of *all* the things you understand (and most importantly) don't understand! I'll make sure to address them and emphasize more on our in-class session."
   ]
  },
  {
   "cell_type": "markdown",
   "metadata": {},
   "source": [
    "-----\n",
    "# Congratulations, you're done with your first in-class assignment!"
   ]
  },
  {
   "cell_type": "markdown",
   "metadata": {},
   "source": [
    "&#169; Copyright 2020,  Amani Ahnuar"
   ]
  }
 ],
 "metadata": {
  "kernelspec": {
   "display_name": "Python 3",
   "language": "python",
   "name": "python3"
  },
  "language_info": {
   "codemirror_mode": {
    "name": "ipython",
    "version": 3
   },
   "file_extension": ".py",
   "mimetype": "text/x-python",
   "name": "python",
   "nbconvert_exporter": "python",
   "pygments_lexer": "ipython3",
   "version": "3.8.3"
  }
 },
 "nbformat": 4,
 "nbformat_minor": 4
}
