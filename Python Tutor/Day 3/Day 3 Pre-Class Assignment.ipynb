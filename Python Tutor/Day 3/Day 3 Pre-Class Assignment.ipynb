{
 "cells": [
  {
   "cell_type": "markdown",
   "metadata": {},
   "source": [
    "# Day 3 Pre-class Assignment: If-Else and Functions\n",
    "---"
   ]
  },
  {
   "cell_type": "markdown",
   "metadata": {},
   "source": [
    "## Goals for Today's Pre-Class Assignment\n",
    "\n",
    "* Use if-else statements\n",
    "* Write simple functions in Python"
   ]
  },
  {
   "cell_type": "markdown",
   "metadata": {},
   "source": [
    "---\n",
    "## Part 1: Making Decisions in Python"
   ]
  },
  {
   "cell_type": "markdown",
   "metadata": {},
   "source": [
    "&#9989; Do This - **Run** the cell below and watch the YouTube video"
   ]
  },
  {
   "cell_type": "code",
   "execution_count": null,
   "metadata": {
    "scrolled": true
   },
   "outputs": [],
   "source": [
    "# Don't forget to watch the video in full-screen mode!\n",
    "from IPython.display import YouTubeVideo  \n",
    "YouTubeVideo(\"cozbOliNwSs\",width=640,height=360)  # Boolean logic and if statements"
   ]
  },
  {
   "cell_type": "markdown",
   "metadata": {},
   "source": [
    "### Using `if-else`:\n",
    "\n",
    "Now that you've learned a bit about `if` statements in Python, let's get some practice with those conditional statements!\n",
    "\n",
    "Remember, `if` statements can be used for situations when we only want certain code to execute when a particular thing happens to be true.\n",
    "\n",
    "For example, the following code loops over a range of values but only actually prints the value if the value is greater than 5. Try running the code!"
   ]
  },
  {
   "cell_type": "code",
   "execution_count": null,
   "metadata": {},
   "outputs": [],
   "source": [
    "for i in range(11):\n",
    "    if i > 5:\n",
    "        print(i)"
   ]
  },
  {
   "cell_type": "markdown",
   "metadata": {},
   "source": [
    "This code below might be familiar, but do try to run it and see what is it's doing?"
   ]
  },
  {
   "cell_type": "code",
   "execution_count": null,
   "metadata": {},
   "outputs": [],
   "source": [
    "for i in range(11):\n",
    "    if i%2 == 0:\n",
    "        print(i)"
   ]
  },
  {
   "cell_type": "markdown",
   "metadata": {},
   "source": [
    "**Question 1:** What is the above code doing? Comment in the code and explain briefly. (create a markdown cell below and answer)"
   ]
  },
  {
   "cell_type": "markdown",
   "metadata": {},
   "source": [
    "### Using `and` and `or`:\n",
    "\n",
    "We can also perform `if` statements using multiple conditions. Let's say we want all the numbers in the range from 0 to 10 that are greater than 5 **and** divisible by 2. How might we do that? Review and run the code below. Make sure you understand what's happening."
   ]
  },
  {
   "cell_type": "code",
   "execution_count": null,
   "metadata": {},
   "outputs": [],
   "source": [
    "for i in range(11):\n",
    "    if i > 5 and i%2 == 0:\n",
    "        print(i)"
   ]
  },
  {
   "cell_type": "markdown",
   "metadata": {},
   "source": [
    "Now, what if we replace that `and` statement with an `or` statement? Try running the code!"
   ]
  },
  {
   "cell_type": "code",
   "execution_count": null,
   "metadata": {},
   "outputs": [],
   "source": [
    "for i in range(11):\n",
    "    if i > 5 or i%2==0:\n",
    "        print(i)"
   ]
  },
  {
   "cell_type": "markdown",
   "metadata": {},
   "source": [
    "**Question**: How is the `or` statement different than the `and` statement? Comment in the code and explain briefly (create a markdown cell below and answer)"
   ]
  },
  {
   "cell_type": "markdown",
   "metadata": {},
   "source": [
    "**Challenge Task:** Define `x` to be a list of the numbers 1 through 10. For all the numbers in `x`, if that number is even, remove that number from the list. Create a cell below and type your answer there. It will prove helpful for you to [search the web](https://stackoverflow.com/questions/2793324/is-there-a-simple-way-to-delete-a-list-element-by-value)  to find the function for removing an object from a list. Don't worry about spending a ton of time on this, if you can't figure it out, just make a note of that and we'll take a look at it in class as a group."
   ]
  },
  {
   "cell_type": "code",
   "execution_count": null,
   "metadata": {},
   "outputs": [],
   "source": [
    "# Put your code here\n"
   ]
  },
  {
   "cell_type": "markdown",
   "metadata": {},
   "source": [
    "---\n",
    "## Part 2: More complex `if` statements\n"
   ]
  },
  {
   "cell_type": "markdown",
   "metadata": {},
   "source": [
    "Sometimes just using several simple `if` statements in our code isn't enough to make sure the program does what it is supposed to do. Other times even more complicated `if` statements that use `and` or `or` to combine multiple conditional statements aren't sufficent either, so what do we do then?\n",
    "\n",
    "You may often discover that you need to solve a problem that requires the code to do one thing if a particular condition is true and *something else* if that condition is not true. This is where the `else` command comes into play. Basically, the program knows to execute a certain piece of code when the `if` statement is true and a different piece of code for all other cases.\n",
    "\n",
    "We can actually build even more complicated code by using the `elif` or \"else-if\" statement, which is basically a second `if` statement that is only executed if the first `if` statement was not satisfied. We can even tag an `else` on the end of all of that as well. Below is a diagram that helps illustrate the flow of an `if-elif-else` statement.\n",
    "\n",
    "![If_Flow](https://cdn.programiz.com/sites/tutorial2program/files/Python_if_elif_else_statement.jpg)"
   ]
  },
  {
   "cell_type": "markdown",
   "metadata": {},
   "source": [
    "&#9989; Do This - **Run** the cell below and watch the YouTube video"
   ]
  },
  {
   "cell_type": "code",
   "execution_count": null,
   "metadata": {},
   "outputs": [],
   "source": [
    "# Don't forget to watch the video in full-screen mode!\n",
    "from IPython.display import YouTubeVideo  \n",
    "YouTubeVideo(\"8_wSb927nH0\",width=640,height=360)  # Complex if statements"
   ]
  },
  {
   "cell_type": "markdown",
   "metadata": {},
   "source": [
    "**Question 1**: Let's say that you were recently promoted to manager at work. While you're excited about all of the extra money that comes with the new position, you've started to realize that there's a bunch of extra responsbility associated with the job as well. One of those responsibilities is to create the work schedule based on all of the preferences of your new minions. You're thinking that you might be able to use a bit of Python to figure out which hours each person should work. Your employees have made the following requests:\n",
    "\n",
    "* Aishah would like to work in the morning\n",
    "* Saiful would like to work in the evening\n",
    "* Ali didn't submit his request\n",
    "* Ahmad would like to work in the evening\n",
    "* Syuhada would like to work in the evening\n",
    "* Nasir would like to work in the morning\n",
    "\n",
    "Create a `for` loop that loops through the list of employee names (provided below) and prints out the following statements based on their preferences:\n",
    "\n",
    "* If the employee requested mornings, print \"You have to work from 9am-12pm.\"\n",
    "* If the employee requested evenings, print \"You have to work from 6-9pm.\"\n",
    "* If the employee failed to submit a request, print \"You have to work from 12-6pm.\"\n",
    "\n",
    "You can use any combination of `if`, `elif`, and `else` statements to get the job done."
   ]
  },
  {
   "cell_type": "code",
   "execution_count": null,
   "metadata": {},
   "outputs": [],
   "source": [
    "employees = ['Ahmad', 'Aishah', 'Saiful', 'Syuhada', 'Nasir', 'Ali']\n",
    "\n",
    "# Put your code below this comment\n"
   ]
  },
  {
   "cell_type": "markdown",
   "metadata": {},
   "source": [
    "---\n",
    "## Part 3: Introduction to functions"
   ]
  },
  {
   "cell_type": "markdown",
   "metadata": {},
   "source": [
    "The last bit of this assignment is designed to get you start thinking about an extremely useful tool in Python, the Python function construct!\n",
    "\n",
    "Functions in Python are really handy when you have a bit of code that serves a specific purpose and you want to be able to use that bit of code over and over again without having to copy and paste it repeatedly-like `print()`!"
   ]
  },
  {
   "cell_type": "markdown",
   "metadata": {},
   "source": [
    "&#9989; Do This - **Run** the cell below and watch the YouTube video"
   ]
  },
  {
   "cell_type": "code",
   "execution_count": null,
   "metadata": {},
   "outputs": [],
   "source": [
    "# Don't forget to watch the video in full-screen mode!\n",
    "from IPython.display import YouTubeVideo\n",
    "YouTubeVideo(\"kY3yMXUu5qY\",width=640,height=360) # Intro to Functions!"
   ]
  },
  {
   "cell_type": "markdown",
   "metadata": {},
   "source": [
    "**Question 1**: In your own words, explain what a function is and why it is a very useful tool in programming? (create a markdown cell below and answer)"
   ]
  },
  {
   "cell_type": "markdown",
   "metadata": {},
   "source": [
    "### Part 3.1: Writing functions"
   ]
  },
  {
   "cell_type": "markdown",
   "metadata": {},
   "source": [
    "&#9989; Do This - **Run** the cell below and watch the YouTube video"
   ]
  },
  {
   "cell_type": "code",
   "execution_count": null,
   "metadata": {},
   "outputs": [],
   "source": [
    "# Don't forget to watch the video in full-screen mode!\n",
    "from IPython.display import YouTubeVideo\n",
    "YouTubeVideo(\"HWzDv1UHLZo\",width=640,height=360) # How do we write functions?"
   ]
  },
  {
   "cell_type": "markdown",
   "metadata": {},
   "source": [
    "**Question 2**: What are the four main pieces that make up a function in Python? (create a markdown cell below and answer)"
   ]
  },
  {
   "cell_type": "markdown",
   "metadata": {},
   "source": [
    "**Question 3**: What is the critical term needed to initially define a function? (create a markdown cell below and answer)"
   ]
  },
  {
   "cell_type": "markdown",
   "metadata": {},
   "source": [
    "**Question 4**: How do you ensure that the results are your function are output in a way that will allow you to store the results in a new variable? (create a markdown cell below and answer)"
   ]
  },
  {
   "cell_type": "markdown",
   "metadata": {},
   "source": [
    "### Part 3.2: Practice with writing functions"
   ]
  },
  {
   "cell_type": "code",
   "execution_count": null,
   "metadata": {
    "scrolled": true
   },
   "outputs": [],
   "source": [
    "# Don't forget to watch the video in full-screen mode!\n",
    "from IPython.display import YouTubeVideo\n",
    "YouTubeVideo(\"EXO3WYqlA6A\",width=640,height=360) # Practice writing functions"
   ]
  },
  {
   "cell_type": "markdown",
   "metadata": {},
   "source": [
    "**Question 5**: Create a Python function that takes three numbers as inputs and __*prints*__ the average of those three numbers. Call your function \"compute_average\". Test your function to make sure it works!"
   ]
  },
  {
   "cell_type": "code",
   "execution_count": null,
   "metadata": {},
   "outputs": [],
   "source": [
    "# Put your code here\n"
   ]
  },
  {
   "cell_type": "markdown",
   "metadata": {},
   "source": [
    "**Question 6**: Write a function that takes an $a$, $b$, and $c$ value and __*returns*__ the value of $2a^2 - 4b + c$. Test your function to make sure it works!"
   ]
  },
  {
   "cell_type": "code",
   "execution_count": null,
   "metadata": {},
   "outputs": [],
   "source": [
    "# Put your code here\n"
   ]
  },
  {
   "cell_type": "markdown",
   "metadata": {},
   "source": [
    "---\n",
    "### Notes\n",
    "\n",
    "**For more information on defining functions in python, check out these links:**\n",
    "* [Tutorial on functions in python](https://docs.python.org/3/tutorial/controlflow.html#defining-functions)\n",
    "* [Dive Into Python - section on functions](http://www.diveintopython3.net/your-first-python-program.html#declaringfunctions)\n",
    "\n",
    "**Important**: One of the things you should remember is that when you want a function to return a values (rather than just print it), the `return` command needs to go at the end of the function. The moment a function comes across a `return` statement, it will exit the function and ignore any code that comes later in the function. The exception to this is when a function has mutiple return statements that are called only when certain conditions are true."
   ]
  },
  {
   "cell_type": "markdown",
   "metadata": {},
   "source": [
    "---\n",
    "### Assignment wrap-up\n",
    "\n",
    "I hope you enjoy all these videos and exercises! Make sure you try (doesn't matter if you fail along the way!) everything and **take notes** of what you're confused of.\n",
    "\n",
    "Be sure to **send me an email or text** of *all* the things you understand (and most importantly) don't understand! I'll make sure to address them and emphasize more on our in-class session."
   ]
  },
  {
   "cell_type": "markdown",
   "metadata": {},
   "source": [
    "-----\n",
    "# Congratulations, you're done with your first in-class assignment!"
   ]
  },
  {
   "cell_type": "markdown",
   "metadata": {},
   "source": [
    "&#169; Copyright 2020,  Amani Ahnuar"
   ]
  }
 ],
 "metadata": {
  "kernelspec": {
   "display_name": "Python 3",
   "language": "python",
   "name": "python3"
  },
  "language_info": {
   "codemirror_mode": {
    "name": "ipython",
    "version": 3
   },
   "file_extension": ".py",
   "mimetype": "text/x-python",
   "name": "python",
   "nbconvert_exporter": "python",
   "pygments_lexer": "ipython3",
   "version": "3.8.3"
  }
 },
 "nbformat": 4,
 "nbformat_minor": 2
}
