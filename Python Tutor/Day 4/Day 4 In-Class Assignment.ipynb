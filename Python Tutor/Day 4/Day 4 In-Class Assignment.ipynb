{
 "cells": [
  {
   "cell_type": "markdown",
   "metadata": {},
   "source": [
    "# Day 4 In-class Assignment: Wrapping Up Functions and Testing Basics"
   ]
  },
  {
   "cell_type": "markdown",
   "metadata": {},
   "source": [
    "## Learning Goals:\n",
    "\n",
    "By the end of this assignment you should be able to:\n",
    "\n",
    "* Confidently write and execute functions in Python using varying numbers of input parameters, default parameters, and returned values"
   ]
  },
  {
   "cell_type": "markdown",
   "metadata": {},
   "source": [
    "---\n",
    "## Part 1: Revisiting the last function from the pre-class assignment"
   ]
  },
  {
   "cell_type": "markdown",
   "metadata": {},
   "source": [
    "In your pre-class assignment, you were asked to do the following:\n",
    "\n",
    "1. Write a function called `x_cubed`.\n",
    "2. The function should take in a list of $x$-values of any length, but should have a default of [1,2,3].\n",
    "3. The function should return a new list of values that are $x^3$ values of the original input values.\n",
    "4. Print the resulting new list.\n",
    "\n",
    "Hopefully you were able to figure this out, but if not here's one possible solution:"
   ]
  },
  {
   "cell_type": "code",
   "execution_count": 2,
   "metadata": {},
   "outputs": [
    {
     "name": "stdout",
     "output_type": "stream",
     "text": [
      "[1, 8, 27]\n"
     ]
    }
   ],
   "source": [
    "def x_cubed(x_values=[1,2,3]):\n",
    "    x_cb = []\n",
    "    for x in x_values:\n",
    "        x_cb.append(x**3)\n",
    "    return x_cb\n",
    "\n",
    "x3 = x_cubed()\n",
    "print(x3)"
   ]
  },
  {
   "cell_type": "markdown",
   "metadata": {},
   "source": [
    "Notice that when the function is called, it doesn't take any input and yet produces an output. This is the upside to defining a default value for the input. Of course, I can also make the $x$-values to be anything I want. Like so:"
   ]
  },
  {
   "cell_type": "code",
   "execution_count": 3,
   "metadata": {},
   "outputs": [
    {
     "name": "stdout",
     "output_type": "stream",
     "text": [
      "[27, -125, 1000, -216, -343, 8]\n"
     ]
    }
   ],
   "source": [
    "x = [3, -5, 10, -6, -7, 2]\n",
    "x3 = x_cubed(x)\n",
    "print(x3)"
   ]
  },
  {
   "cell_type": "markdown",
   "metadata": {},
   "source": [
    "### Making your function more flexible\n",
    "\n",
    "Now, the above function is great for computing $x^2$, but what if I wanted a function that could more generally compute the values for a list of $x$-values raised to any power?\n",
    "\n",
    "Design a small function called `compute_exponent` that satisfies the following:\n",
    "\n",
    "1. Given a **list** of $x$-values, it computes the value of $x^a$ for each value, where $a$ is a parameter that is fed into your function.\n",
    "2. The default value of $a$ is \"2\".\n",
    "3. It returns the __list__ of all the $x^a$ values.\n",
    "\n",
    "*Make sure you print out the list of resulting values to confirm that your code is working*. **Run your function for a variety of input values.**"
   ]
  },
  {
   "cell_type": "markdown",
   "metadata": {},
   "source": [
    "*(WRITE PSEUDO-CODE HERE)*\n"
   ]
  },
  {
   "cell_type": "code",
   "execution_count": null,
   "metadata": {},
   "outputs": [],
   "source": [
    "# Put your code here"
   ]
  },
  {
   "cell_type": "markdown",
   "metadata": {},
   "source": [
    "**Question**: What happens in your function if $a=0.5$ and your $x$-values are a combination of positive and negative numbers?"
   ]
  },
  {
   "cell_type": "markdown",
   "metadata": {},
   "source": [
    "< Answer here >"
   ]
  },
  {
   "cell_type": "markdown",
   "metadata": {},
   "source": [
    "**Question**: What if you only wanted your function to return a list of new values if all of the values are non-imaginary numbers? Explain how you might re-write your code to accomplish this. You should brainstorm ideas!\n",
    "\n",
    "In case you don't remember what imaginary numbers are: https://en.wikipedia.org/wiki/Imaginary_number"
   ]
  },
  {
   "cell_type": "markdown",
   "metadata": {},
   "source": [
    "< Answer your plan here >"
   ]
  },
  {
   "cell_type": "code",
   "execution_count": 1,
   "metadata": {},
   "outputs": [],
   "source": [
    "# If done in code, it would look like\n"
   ]
  },
  {
   "cell_type": "markdown",
   "metadata": {},
   "source": [
    "---\n",
    "## Part 2: Grading Assistant"
   ]
  },
  {
   "cell_type": "markdown",
   "metadata": {},
   "source": [
    "\n",
    "The goal of this question is to include the all topics you have learned about thus far in class in one problem. As such, this problem might be pretty challenging for you -- that's OK! Do your best to solve the problem and remember that it is okay to make small progress and test-run many times.\n",
    "\n",
    "For this question you are given a list of student grades for different sections of Python Class. Each element in the list is actually a list itself. Your task is:\n",
    "\n",
    "1. To write a **function** that takes in **a list of student grades** (i.e. the student grades for *one section*), computes the average grade for that section, and **returns** that average grade. \n",
    "\n",
    "2. Once you write your function, you should **write a loop** that loops over each list in the list of lists, which correspond to the grades for different sections, and use your new function to compute the average percentage grade. Your loop should include a **print statement** that prints the average grade for that section, like so:\n",
    "\n",
    "`The average grade in Section <section number> is <section average>`\n",
    "\n",
    "The section number is just the position of that section in the list of lists.\n",
    "\n",
    "3. Your loop should also check to see what letter grade that average percentage grade corresponds to and **print out**:\n",
    "\n",
    "`This average letter grade in this section is <letter grade>`\n",
    "\n",
    "You can determine the letter grade using the following criteria\n",
    "\n",
    "* If the percentage is greater than or equal to 90%, this corresponds to an A.\n",
    "* If the percentage is greater than or equal to 80% and less than 90%, this corresponds to a B.\n",
    "* If the percentage is greater than or equal to 70% and less than 80%, this corresponds to a C.\n",
    "* If the percentage is lower than 70%, this corresponds to a F."
   ]
  },
  {
   "cell_type": "code",
   "execution_count": null,
   "metadata": {},
   "outputs": [],
   "source": [
    "# This is the list that you must use for this problem\n",
    "grades = [[90, 95, 73, 84, 88, 91],\n",
    "          [75, 78, 99, 96, 84, 84, 79],\n",
    "          [95, 88, 82, 80, 96, 85, 90],\n",
    "          [91, 97, 98, 99, 92, 88, 95, 78],\n",
    "          [74, 71, 88, 77, 85], \n",
    "          [77, 71, 98, 87, 83, 89, 72], \n",
    "          [75, 81, 81, 78, 68, 69]]\n",
    "\n",
    "\n",
    "# Write your function to determine the average grade for one section\n",
    "\n",
    "\n",
    "# Write a loop to apply your function to each list in \"grades\"\n",
    "# and print out average section grade and corresponding letter grade\n",
    "\n"
   ]
  },
  {
   "cell_type": "markdown",
   "metadata": {},
   "source": [
    "---\n",
    "## Part 3: Guessing Game"
   ]
  },
  {
   "cell_type": "markdown",
   "metadata": {},
   "source": [
    "In this part, you will be **creating your own guessing game**. The game works as follow:\n",
    "\n",
    "1. The game greets user and introduces the user to the game.\n",
    "2. The game generates a random secret number and keep it a secret.\n",
    "3. The user will get to guess a number. If the number is lower, the game will tell that the secret number is higher as well as otherwise."
   ]
  },
  {
   "cell_type": "markdown",
   "metadata": {},
   "source": [
    "### Part 3.1: Input"
   ]
  },
  {
   "cell_type": "markdown",
   "metadata": {},
   "source": [
    "But before that, let's introduce a handy GUI function: `input()`. Since you're probably a good coder by now, the code below should act as a reference on how to use `input()` function.\n",
    "\n",
    "**Run the codes below and figure how it works**"
   ]
  },
  {
   "cell_type": "code",
   "execution_count": null,
   "metadata": {},
   "outputs": [],
   "source": [
    "user = input(\"Hi, what's your name?\")\n",
    "print(\"Hello, \" + user)"
   ]
  },
  {
   "cell_type": "markdown",
   "metadata": {},
   "source": [
    "*(note that it works differently with numbers because `input` stores **everything** as **strings**)*"
   ]
  },
  {
   "cell_type": "code",
   "execution_count": null,
   "metadata": {},
   "outputs": [],
   "source": [
    "num = int(input(\"What number do you want to raise to the power of 10?\"))\n",
    "print(\"The number \" + str(num) + \" raised to the power of 10 is: \" + str(num**10))"
   ]
  },
  {
   "cell_type": "markdown",
   "metadata": {},
   "source": [
    "### Part 3.2: Random Numbers"
   ]
  },
  {
   "cell_type": "markdown",
   "metadata": {},
   "source": [
    "This part requires to **import** a new module (some call it as library)"
   ]
  },
  {
   "cell_type": "code",
   "execution_count": null,
   "metadata": {},
   "outputs": [],
   "source": [
    "from random import randint"
   ]
  },
  {
   "cell_type": "markdown",
   "metadata": {},
   "source": [
    "Figure out what the code below does! I suggest you run the same code below a few times!"
   ]
  },
  {
   "cell_type": "code",
   "execution_count": null,
   "metadata": {},
   "outputs": [],
   "source": [
    "secret = randint(1,10)\n",
    "print(secret)"
   ]
  },
  {
   "cell_type": "markdown",
   "metadata": {},
   "source": [
    "### Part 3.3: The Game"
   ]
  },
  {
   "cell_type": "markdown",
   "metadata": {},
   "source": [
    "Alright, now that both of those are set. Let's start making the game. For this section, a blueprint will be given and you can figure out how to completely make your own guessing game. Use the diagram below as a reference."
   ]
  },
  {
   "cell_type": "markdown",
   "metadata": {},
   "source": [
    "\n",
    "<img src=\"Flow Chart.jpg\" width=\"400\">"
   ]
  },
  {
   "cell_type": "code",
   "execution_count": 2,
   "metadata": {},
   "outputs": [],
   "source": [
    "# Use input function to greet user\n",
    "\n",
    "# Generate a random secret number 1 to 10 (secret)\n",
    "\n",
    "# Ask the user for a guess (guess)\n",
    "\n",
    "# Make a while loop so that it loops as long as the guess is not the secret number\n",
    "\n",
    "### Inside the loop, print something to tell the user is wrong i.e \"WRONG!!!\"\n",
    "\n",
    "### Ask the user for a guess (guess) AGAIN\n",
    "\n",
    "# Outside the loop, assuming the guess is the secret number, congratulate the user"
   ]
  },
  {
   "cell_type": "markdown",
   "metadata": {},
   "source": [
    "---\n",
    "### Assignment wrap-up\n",
    "\n",
    "I hope you enjoy all these exercises! Make sure you try (doesn't matter if you fail along the way!) everything and **take notes** of what you're confused of.\n",
    "\n",
    "Be sure to **send me an email or text** of *all* the things you understand (and most importantly) don't understand! I'll make sure to address them and emphasize more on our in-class session."
   ]
  },
  {
   "cell_type": "markdown",
   "metadata": {},
   "source": [
    "-----\n",
    "# Congratulations, you're done with your first in-class assignment!"
   ]
  },
  {
   "cell_type": "markdown",
   "metadata": {},
   "source": [
    "&#169; Copyright 2020,  Amani Ahnuar"
   ]
  }
 ],
 "metadata": {
  "kernelspec": {
   "display_name": "Python 3",
   "language": "python",
   "name": "python3"
  },
  "language_info": {
   "codemirror_mode": {
    "name": "ipython",
    "version": 3
   },
   "file_extension": ".py",
   "mimetype": "text/x-python",
   "name": "python",
   "nbconvert_exporter": "python",
   "pygments_lexer": "ipython3",
   "version": "3.8.3"
  }
 },
 "nbformat": 4,
 "nbformat_minor": 2
}
