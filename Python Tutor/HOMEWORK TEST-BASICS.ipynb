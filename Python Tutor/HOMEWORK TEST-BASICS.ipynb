{
 "cells": [
  {
   "cell_type": "markdown",
   "metadata": {},
   "source": [
    "# Homework 1: Basics to Python Programming\n",
    "\n",
    "In this homework you will practice some fundamental progamming techniques and skills using the Python programming language. This should serve as a good assessment of what you do/do not understand at this point in the course. Make sure to hit me up if run into **any** issues.\n",
    "\n",
    "---"
   ]
  },
  {
   "cell_type": "markdown",
   "metadata": {},
   "source": [
    "**General Note:** This notebook is designed to start with simple exercises and followed by real-world problems. The exercises are not arranged in any order of difficulty and some big problems are not interconnected, hence you are allowed to stop at one part and do the other first.\n",
    "\n",
    "The exercises are only in **Part 0** and that is for your own practice. The problems in **Part 1**, **Part 2**, **Part 3**, and **Part 4** are the ones that should test your creativity since there are always more than one way to solve problems in this world!"
   ]
  },
  {
   "cell_type": "markdown",
   "metadata": {},
   "source": [
    "## Part 0: Exercises and Refresehers\n",
    "Below are a series of exercises meant for you to refresh some concepts of the basics of Python."
   ]
  },
  {
   "cell_type": "markdown",
   "metadata": {},
   "source": [
    "### RUN ME FIRST\n",
    "\n",
    "Please run the below code snippet. It is required for running tests for your solution.\n",
    "<br>\n",
    "The <font color=green>**repr( )**</font> method returns a printable representational string of the given object."
   ]
  },
  {
   "cell_type": "code",
   "execution_count": null,
   "metadata": {},
   "outputs": [],
   "source": [
    "def test(got, expected):\n",
    "    if got == expected:\n",
    "        prefix = '  OK'\n",
    "    else:\n",
    "        prefix = 'FAIL'\n",
    "    print(('%s \\n\\tgot: %s \\n\\texpected: %s' % (prefix, repr(got), repr(expected))))"
   ]
  },
  {
   "cell_type": "code",
   "execution_count": null,
   "metadata": {},
   "outputs": [],
   "source": [
    "test('a', 'ab')\n",
    "test('a', 'a')"
   ]
  },
  {
   "cell_type": "markdown",
   "metadata": {},
   "source": [
    "**Exercise 1 - Seconds in course**\n",
    "Each course day has 8 hours.\n",
    "\n",
    "Print how many seconds will you spend in this 3-days course?"
   ]
  },
  {
   "cell_type": "code",
   "execution_count": null,
   "metadata": {},
   "outputs": [],
   "source": []
  },
  {
   "cell_type": "markdown",
   "metadata": {},
   "source": [
    "**Exercise 2 - Teambuilding**\n",
    "\n",
    "How many groups can be made during teambuilding?\n",
    "\n",
    "You are on a company team building event with a total of 57 people. The host of the day asks you all to form groups of 6 people. **How many groups** will there be? And **how many people will be leftovers** without a group?\n",
    "\n",
    "- Define variable `people`\n",
    "- Define variable `group_size`\n",
    "- Define and calculate `groups` using floor division.\n",
    "- Define and calculate `leftovers` using modulo.\n",
    "- Print `groups` and `leftovers`"
   ]
  },
  {
   "cell_type": "code",
   "execution_count": null,
   "metadata": {},
   "outputs": [],
   "source": []
  },
  {
   "cell_type": "markdown",
   "metadata": {},
   "source": [
    "**Exercise 3 - Total value**\n",
    "\n",
    "What is the **total value** of the numbers in this list?\n",
    "\n",
    "Numbers: 1, 10, 15, 44, 22, 5, 6, 9\n",
    "\n",
    "- Define a variable called `numbers` which contains the numbers. \n",
    "- Define a variable `total_value` with value <font color=green>0</font>. \n",
    "- Loop over the `numbers` and <u>add to</u> `total_value`."
   ]
  },
  {
   "cell_type": "code",
   "execution_count": null,
   "metadata": {},
   "outputs": [],
   "source": []
  },
  {
   "cell_type": "markdown",
   "metadata": {},
   "source": [
    "**Exercise 4 - Uneven numbers**\n",
    "\n",
    "**How many uneven numbers** are there in this list?\n",
    "\n",
    "Numbers: 1,10, 15, 44, 22, 5, 6, 9\n",
    "\n",
    "- Define a variable called `numbers` which contains the numbers. \n",
    "- Define a variable called `count_uneven` with value <font color=green>0</font>.\n",
    "- Loop over the numbers and add <font color=purple>**+**</font><font color=green>1</font> to `count_uneven` <u>if the number is uneven</u>."
   ]
  },
  {
   "cell_type": "code",
   "execution_count": null,
   "metadata": {},
   "outputs": [],
   "source": []
  },
  {
   "cell_type": "markdown",
   "metadata": {},
   "source": [
    "**Exercise 5 - Even numbers**\n",
    "\n",
    "<font color=green>Print</font> out the **even numbers** in this list\n",
    "\n",
    "Numbers: 1, 10, 15, 44, 22, 5, 6, 9\n",
    "\n",
    "- Define a variable called `numbers` which contains the numbers. \n",
    "- Loop over the numbers and print the number <u>if it is an even number</u>."
   ]
  },
  {
   "cell_type": "code",
   "execution_count": null,
   "metadata": {},
   "outputs": [],
   "source": []
  },
  {
   "cell_type": "markdown",
   "metadata": {},
   "source": [
    "**Exercise 6 - Find the maximum**\n",
    "\n",
    "Find the **maximum number** in this list (without using the <font color=green>max</font> function)\n",
    "\n",
    "Numbers: 90, -100, 11, 2, 400, 5, 66, 7\n",
    "\n",
    "- Define a variable called `number` which contains the numbers. \n",
    "- Define a variable `max_value` and <u>initialize it with the first number</u> in numbers\n",
    "- Loop over the numbers and do something so that <u>at the end of the loop we are left with the max value</u>.\n",
    "\n",
    "**Hint:**\n",
    "initialize with the first number as maximum first.\n"
   ]
  },
  {
   "cell_type": "code",
   "execution_count": null,
   "metadata": {},
   "outputs": [],
   "source": []
  },
  {
   "cell_type": "markdown",
   "metadata": {},
   "source": [
    "**Exercise 9 - Starts with B**\n",
    "\n",
    "Determine if a string starts with <font color=crimson>\"B\"</font> and return `True` or `False`.\n",
    "\n",
    "_Tips: `True` and `False` are not strings, they don't need `\" \"`."
   ]
  },
  {
   "cell_type": "code",
   "execution_count": null,
   "metadata": {},
   "outputs": [],
   "source": [
    "def starts_with_B(text):\n",
    "    ### your codes here\n",
    "    pass"
   ]
  },
  {
   "cell_type": "code",
   "execution_count": null,
   "metadata": {
    "scrolled": true
   },
   "outputs": [],
   "source": [
    "print(\"starts_with_b\")\n",
    "test(starts_with_B(\"Boyce\"), True)\n",
    "test(starts_with_B(\"Joyce\"), False)"
   ]
  },
  {
   "cell_type": "markdown",
   "metadata": {},
   "source": [
    "**Exercise 10 - My name is**\n",
    "\n",
    "Return a formatted string that says <font color=crimson>\"My name is `<name>`\"</font> ."
   ]
  },
  {
   "cell_type": "code",
   "execution_count": null,
   "metadata": {},
   "outputs": [],
   "source": [
    "def show_name(name):\n",
    "    ### your code\n",
    "    pass"
   ]
  },
  {
   "cell_type": "code",
   "execution_count": null,
   "metadata": {
    "scrolled": true
   },
   "outputs": [],
   "source": [
    "print(\"my_name_is\")\n",
    "test(show_name(\"Jeremy\"), \"My name is Jeremy\")\n",
    "test(show_name(\"Laleh\"), \"My name is Laleh\")"
   ]
  },
  {
   "cell_type": "markdown",
   "metadata": {},
   "source": [
    "**Exercise 11 - Bigger**\n",
    "\n",
    "Determine if a is bigger than b, return `True` if so.\n",
    "\n",
    "_Tips: `True` and `False` are not strings, they don't need `\" \"`."
   ]
  },
  {
   "cell_type": "code",
   "execution_count": null,
   "metadata": {
    "scrolled": true
   },
   "outputs": [],
   "source": [
    "def bigger(a,b):\n",
    "    ### your code here"
   ]
  },
  {
   "cell_type": "code",
   "execution_count": null,
   "metadata": {},
   "outputs": [],
   "source": [
    "test(bigger(1,2), False)\n",
    "test(bigger(1,1), False)\n",
    "test(bigger(2,1), True)"
   ]
  },
  {
   "cell_type": "code",
   "execution_count": null,
   "metadata": {},
   "outputs": [],
   "source": []
  },
  {
   "cell_type": "markdown",
   "metadata": {},
   "source": [
    "**Exercise 12 - Donuts**\n",
    "\n",
    "Return a string of the form `\"Number of donuts: <count>\"`. However if the count is 10 or more, then use the word 'many'. So `donut(5)` returns `\"Number of donuts: 5\"`. And `donut(23)` returns `\"Number of donuts: many\"`.\n",
    "\n",
    "Hints: You may use if-else and string formatting."
   ]
  },
  {
   "cell_type": "code",
   "execution_count": null,
   "metadata": {},
   "outputs": [],
   "source": [
    "def donuts(count):\n",
    "    ### your code here"
   ]
  },
  {
   "cell_type": "code",
   "execution_count": null,
   "metadata": {},
   "outputs": [],
   "source": [
    "print(\"donuts\")\n",
    "test(donuts(4), 'Number of donuts: 4')\n",
    "test(donuts(9), 'Number of donuts: 9')\n",
    "test(donuts(10), 'Number of donuts: many')\n",
    "test(donuts(99), 'Number of donuts: many')"
   ]
  },
  {
   "cell_type": "markdown",
   "metadata": {},
   "source": [
    "**Exercise 9 - Weekend**\n",
    "\n",
    "Define a procedure weekend which takes a string as input and returns the `True` if it's `\"Saturday\"` or `\"Sunday\"` and `False` otherwise.\n",
    "\n",
    "_Tips: `True` and `False` are not strings, they don't need `\" \"`."
   ]
  },
  {
   "cell_type": "code",
   "execution_count": null,
   "metadata": {},
   "outputs": [],
   "source": [
    "def weekend(day):\n",
    "    ## your code"
   ]
  },
  {
   "cell_type": "code",
   "execution_count": null,
   "metadata": {},
   "outputs": [],
   "source": [
    "print('weekend')\n",
    "test(weekend(\"Saturday\"), True)\n",
    "test(weekend(\"Sunday\"), True)\n",
    "test(weekend(\"Monday\"), False)"
   ]
  },
  {
   "cell_type": "markdown",
   "metadata": {},
   "source": [
    "## Part 1: Lists\n",
    "This part will have multiple steps. Please write each new step in a new cell to facilitate grading.\n"
   ]
  },
  {
   "cell_type": "markdown",
   "metadata": {},
   "source": [
    "### The Question: Simple Practice\n",
    "\n",
    "* Create a **list** called `\"grab_bag\"` that contains the __*strings*__: `\"backpack\"`, `\"phone\"`, `\"scooter\"`, `\"jacket\"`, and `\"sneakers\"`, in that order.\n",
    "* Using a __*for loop*__, print all of the elements that are in the list, \"grab_bag\".\n",
    "* **Replace** the string `\"scooter\"` with the string `\"Python\"`. Then, **replace** the string `\"jacket\"` with the number `42`. Then print the new list. After you print the list, set the number 42 to be the letter 'q'.\n",
    "* **Replace** the string `\"phone\"` with the **list** of numbers `[8, 6, 7, 5, 3, 0, 9]` and print the new \"grab_bag\" list.\n",
    "* Use a `command` to find the **length** of the list `\"grab_bag\"`. Then write a loop that finds the length of **each item** in the list `\"grab_bag\"`. Include print statements to specify what you are finding the length of. For example, `\"The length of backpack is: 8\"` or `\"The length of grab_bag is: 5\"`. \n"
   ]
  },
  {
   "cell_type": "code",
   "execution_count": null,
   "metadata": {},
   "outputs": [],
   "source": [
    "# Put your code here (make as many cells as you need to organize your answers)\n"
   ]
  },
  {
   "cell_type": "markdown",
   "metadata": {},
   "source": [
    "## Part 2: Dictionaries\n",
    "\n",
    "Dictionaries are like lists in the sense that we have some object (e.g. number, string, etc.) occupying a position in the dictionary. However, dictionaries are unique in that we can refer to each object/element by a **\"key\"**.\n",
    "\n",
    "For example, in the dictionary `\"example_dict\"` in the cell below, the **key** `\"red\"` corresponds to the **number** `-2`, the **key** `\"green\"` corresponds to the **string** `\"beach_ball\"` and so on. `\n",
    "\n",
    "\n",
    "IMPORTANT: You **cannot** refer to elements in a dictionary using **indices** (e.g. example_dict[0] or example_dict[3]) like you can with lists (unless you've defined your keys to be numbers). You must use the __*keys*__ to refer to specific elements. Also note the use of __*curly braces*__ instead of brackets; this is another difference between lists and dictionaries. The following table serves as a reference for how to create and manipulate dictionaries (you made need to scroll side to side)."
   ]
  },
  {
   "cell_type": "markdown",
   "metadata": {},
   "source": [
    "|Container Type $\\hspace{0.5in}$|Mutable or Immutable $\\hspace{0.5in}$|Initialization *Without* Values $\\hspace{0.9in}$|Initializtion *With* Values $\\hspace{2.5in}$|Adding Values to Container $\\hspace{3.5in}$|Removing Values from Container $\\hspace{2.0in}$|Modifying Values $\\hspace{2.0in}$|Access Method $\\hspace{1.0in}$|Notable Operations and Additional Information $\\hspace{2.5in}$|\n",
    "|:---|:---|:---|:---|:---|:---|:---|:---|:---|\n",
    "|**Dictionary**|Mutable| `student={}` | `>>> student={'name': 'John Doe', 'age': 22, 'college': 'UM'}` | `>>> student['major']='Computer Science'` <br> `>>> student` <br> `{'name': 'John Doe', 'age': 22, 'college': 'UM', 'major': 'Computer Science'}` | `del dictName[keyName] #This method removes all entries associated with the given key` | `>>> student['age'] = 23` <br> `>>> student` <br> `{'name': 'John Doe', 'age': 23, 'college': 'UM', 'major': 'Computer Science'}`| Access by key word. Note that this key **must** be a string. <br> `>>>student['college']` <br> `UM`| The 'in' keyword can be very helpful with dictionaries. Ex: <br><ul><li>`'k' in dict #Returns true if key 'k' is in dictionary dict`</li><li>`'k' not in dict #Returns true if key 'k' is not in dicitonary dict`</li><li>`for key in dict #This will iterate over all keys in dictionary dict`</li></ul> <br>See webpage [here](http://www.python-course.eu/python3_dictionaries.php) for additional helpful methods and operations|"
   ]
  },
  {
   "cell_type": "code",
   "execution_count": null,
   "metadata": {},
   "outputs": [],
   "source": [
    "# Here is how to define a \"dictionary\" in Python note that the keys are strings\n",
    "example_dict = {\"red\": -2, \"orange\": \"Cata\", \"green\": \"beach_ball\", \"blue\": 25}\n",
    "\n",
    "# This outputs the object that corresponds to the key \"red\"\n",
    "example_dict[\"red\"]\n",
    "\n",
    "# The following line will return an error because we are not using a \"key\".\n",
    "# Uncomment the code below to see the error message\n",
    "\n",
    "example_dict[1]\n"
   ]
  },
  {
   "cell_type": "markdown",
   "metadata": {},
   "source": [
    "**Your goal** is to define a dictionary called \"python_class\". There will be 4 elements in your dictionary. The keys of each element should be \"Instructor\", \"Student\", \"Country\", and \"Period\". The values assigned to each key should be your respective instructor, your name, where you're learning from, and duration of one class session (e.g. `1` for one hour and `2` for two hour). Then, **print your dictionary**.\n"
   ]
  },
  {
   "cell_type": "code",
   "execution_count": null,
   "metadata": {},
   "outputs": [],
   "source": [
    "# Put your code here (make as many cells as you need to organize your answers)\n"
   ]
  },
  {
   "cell_type": "markdown",
   "metadata": {},
   "source": [
    "### The Question: Justification Through Calculation\n",
    "\n",
    "Two chemists at a local brewery are having a dispute over some measurements. The most recent batches of beer are done brewing and they have collected some data to determine the final alcohol content of the different beers. However, their calculations don't agree with one another. \n",
    "\n",
    "Using the measurements that they took for the [specific gravity](https://en.wikipedia.org/wiki/Specific_gravity) (SG) of the beers before and after they were done brewing, calculate the [alcohol by volume](https://en.wikipedia.org/wiki/Alcohol_by_volume#Prediction_of_alcohol_content) for each beer, round it to 3 decimal places, and use this to determine which chemist was correct in their analysis.\n",
    "\n",
    "#### Instruction:\n",
    "In order to determine who was right, print the **real** value and the value that **each chemist** claimed was correct. Then in the markdown cell below, explain which chemist was right for each beer. If neither are correct, you should also indicate that!\n",
    "\n",
    "In order to compute the ABV, you will need to use the following formula:\n",
    "$$ ABV = \\frac{1.05}{0.79} \\Big(\\frac{SG_{\\mathrm{start}} - SG_{\\mathrm{final}}}{SG_{\\mathrm{final}}}\\Big) \\times 100 $$\n",
    "\n",
    "All of the data are stored in the dictionary below called `beers`. Make sure your code includes the correct print statements and that you explain who was right in the Markdown cell!\n",
    "\n",
    "**Tips:**\n",
    "You can do however you want, but my suggestion is make a **list** of all the **real AB**. Then, loop through them *using index* to check with `\"chemist1\"` and `\"chemist2\"`. A good hint is that the length of all values are the same since they should be compared to each other; hence the index should all be the same too."
   ]
  },
  {
   "cell_type": "code",
   "execution_count": null,
   "metadata": {},
   "outputs": [],
   "source": [
    "beers = {\"chemist 1\": [5.264, 3.983, 4.101, 7.216, 2.313, 4.876, 2.255, 8.991, 5.537, 4.251], \n",
    "         \"chemist 2\": [5.211, 3.008, 4.117, 3.843, 5.168, 5.511, 3.110, 8.903, 5.538, 4.255], \n",
    "         \"SG\": [1.050, 1.031, 1.077, 1.032, 1.042, 1.055, 1.019, 1.089, 1.100, 1.032], \n",
    "         \"FG\": [1.010, 1.001, 1.044, 1.003, 1.003, 1.013, 1.002, 1.020, 1.056, 1.000]}"
   ]
  },
  {
   "cell_type": "code",
   "execution_count": null,
   "metadata": {},
   "outputs": [],
   "source": [
    "# Put your code here (make as many cells as you need to organize your answers)\n"
   ]
  },
  {
   "cell_type": "markdown",
   "metadata": {},
   "source": [
    "## Part 3: Calculating Sequences using Loops\n",
    "\n",
    "You are given a numerical sequence that has the form $1,1,2,3,2,-1, \\dots$. Each successive number, after the first two, is found by adding three to the number before it and then subtracting the number before that times 2. For example, the 7th number in the sequence is $({\\bf-1}+3) - ({\\bf2} \\times 2) = -2$.\n",
    "\n",
    "**A possibly useful hint**: We might not have explicitly talked about it in class yet, but one really useful thing that Python allows you to do is index lists using *negative* numbers, which allows you to move backwards through the list as you increase the size of the negative number, starting with -1. That means that if I have the list `stuff = [1,2,3,4]`, I can do `stuff[-1]` and I'll get the last number, `4`. If I want the second to last number, I would do `stuff[-2]`.\n",
    "\n",
    "**Instruction:**\n",
    "\n",
    "Your goal is to write a __*loop*__ that computes $50$ terms in the sequence. Store this sequence as a __*list*__ and then **print the list**. You should get the following output: \n",
    "\n",
    "```\n",
    "[1, 1, 2, 3, 2, -1, -2, 3, 10, 7, -10, -21, 2, 47, 46,\n",
    "-45, -134, -41, 230, 315, -142, -769, -482, 1059, 2026,\n",
    "-89, -4138, -3957, 4322, 12239, 3598, -20877, -28070,\n",
    "13687, 69830, 42459, -97198, -182113, 12286, 376515,\n",
    "351946, -401081, -1104970, -302805, 1907138, 2512751,\n",
    "-1301522, -6327021, -3723974, 8930071]\n",
    "```"
   ]
  },
  {
   "cell_type": "code",
   "execution_count": null,
   "metadata": {},
   "outputs": [],
   "source": [
    "# Put your code here (make as many cells as you need to organize your answers)\n"
   ]
  },
  {
   "cell_type": "markdown",
   "metadata": {},
   "source": [
    "## Question 4: Calculating Half Life Decay (3 points)\n",
    "\n",
    "It has been observed that some substances undergo exponential decay, some examples of which include radioactive substances and drugs in the body. This has led to the definition of the \"half-life\", which is the time at which half of the original amount of the substance still remains. The equation that relates the half-life to the exponential decay is the following:\n",
    "\n",
    "$$ N(t) = N_0 \\big(\\frac{1}{2}\\big)^{\\frac{t}{t_{1/2}}} $$\n",
    "\n",
    "If a person initially ingests 1500 milligrams (mg) of a drug ($N_0$) and the half life ($t_{1/2}$) of that drug is 12 hours, when does the amount of the drug in their body drop to 10% of the original dose?\n",
    "\n",
    "Your goal is to write a __*while loop*__ to approximate __*when*__ (in hours) the amount the person ingested drops to 10% of its original value. Include a **print statement** that states how much time has to pass for the amount of the drug to drop to 10% of its original value.\n",
    "\n",
    "**Tips:**\n",
    "\n",
    "The substance decays. You need to loop from when `t=0` (where the substance is at maximum amount; N=N_0), and go to `t=1`, `t=2`, `t=3`, and so on. Stops once N < N_0 * 0.10. You can also approximate better by looping with half-hour like so `t=0.5`, `t=1`, `t=1.5`, and so on"
   ]
  },
  {
   "cell_type": "code",
   "execution_count": null,
   "metadata": {},
   "outputs": [],
   "source": [
    "# Put your code here (make as many cells as you need to organize your answers)\n"
   ]
  }
 ],
 "metadata": {
  "kernelspec": {
   "display_name": "Python 3",
   "language": "python",
   "name": "python3"
  },
  "language_info": {
   "codemirror_mode": {
    "name": "ipython",
    "version": 3
   },
   "file_extension": ".py",
   "mimetype": "text/x-python",
   "name": "python",
   "nbconvert_exporter": "python",
   "pygments_lexer": "ipython3",
   "version": "3.8.3"
  }
 },
 "nbformat": 4,
 "nbformat_minor": 4
}
