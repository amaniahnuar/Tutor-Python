{
 "cells": [
  {
   "cell_type": "markdown",
   "metadata": {},
   "source": [
    "### <p style=\"text-align: right;\"> &#9989; Amani Ahnuar.\n",
    "<p style=\"text-align: right;\"> &#9989; Chong, Denghua."
   ]
  },
  {
   "cell_type": "markdown",
   "metadata": {},
   "source": [
    "# Day 5 In-class Assignment: Visualizing projectile motion and population growth\n",
    "\n",
    "In this assignment you're going to work to **visualize projectile motion as well the growth of the human population as a function of time**.\n",
    "\n",
    "<img src=\"https://sites.google.com/a/jeffcoschools.us/science-is-out-of-site/_/rsrc/1475155755625/home/physics/unit-2---vectors-and/x-fighters-parabola.jpg\" width=600px>\n",
    "\n",
    "<img src=\"https://futuresplanning.files.wordpress.com/2010/07/populationgrowthhistory2.jpg\" width=600px>"
   ]
  },
  {
   "cell_type": "markdown",
   "metadata": {},
   "source": [
    "## Learning Goals:\n",
    "\n",
    "By the end of this assignment you should be able to:\n",
    "\n",
    "* Use the math module in Python to compute values that can be used in computational models for real-world phenomena.\n",
    "* Use matplotlib to visualize your models.\n",
    "* Customize matplotlib plots to maximize the information they provide."
   ]
  },
  {
   "cell_type": "markdown",
   "metadata": {},
   "source": [
    "---\n",
    "## Part 1: Modeling and visualizing projectile motion\n",
    "\n",
    "We're going to think about the equations that govern projectile motion in two dimensions (think: basketball shot, cannonball motion, the dirt biker jumping off the ramp above, etc).  We can model this motion in the $x$ and $y$ directions with the following equations (assume you know this equation):\n",
    "\n",
    "$$x(t) = v_{0}t\\cos(\\theta)$$\n",
    "$$y(t) = v_{0}t\\sin(\\theta) - \\frac{1}{2}gt^2$$\n",
    "\n",
    "(where $v_0$ is the magnitude of the initial velocity in meters per second, $\\theta$ is the angle that that the projectile is launched at in radians, $g$ is the acceleration due to gravity in meters per seconds-squared, and $t$ is the time in seconds.)\n",
    "\n",
    "Notice that without air resistance, the equation of motion in the **$x$-direction** is just the velocity in the **$x$-direction** multiplied by time because there is nothing to slow the projectile down **in that direction**.\n",
    "\n",
    "In the **$y$-direction** we see that familiar $-\\frac{1}{2}gt^2$ term, which is the effect of gravity pulling down on the projectile in the **$y$-direction**."
   ]
  },
  {
   "cell_type": "markdown",
   "metadata": {},
   "source": [
    "---\n",
    "**Question 1:** **Write a function** that takes _an initial velocity magnitude, a launch angle, and a **list** of times_ in seconds and **computes and returns the $x$-position and $y$-position** as a function of time.\n",
    "\n",
    "(*Hint: you'll need to use the math module to access the $\\sin$ and $\\cos$ functions. You can also use the `math` module to convert from degrees to radians!*)"
   ]
  },
  {
   "cell_type": "code",
   "execution_count": 2,
   "metadata": {},
   "outputs": [
    {
     "name": "stdout",
     "output_type": "stream",
     "text": [
      "[0, 1, 2, 3, 4, 5, 6, 7, 8, 9, 10, 11, 12, 13, 14, 15, 16, 17, 18, 19, 20, 21, 22, 23, 24, 25, 26, 27, 28, 29, 30, 31, 32, 33, 34, 35, 36, 37, 38, 39, 40, 41, 42, 43, 44, 45, 46, 47, 48, 49, 50, 51, 52, 53, 54, 55, 56, 57, 58, 59, 60]\n"
     ]
    }
   ],
   "source": [
    "# Put your code here\n"
   ]
  },
  {
   "cell_type": "markdown",
   "metadata": {},
   "source": [
    "Using your function, **compute the $x$ and $y$ positions** for a projectile launched with an **initial velocity of 500 m/s** at **an angle of 60 degrees**. Compute the motion for a total of **100 seconds at 1 second intervals**. Once you have your values from your function, **make three plots** using matplotlib: \n",
    "\n",
    "1. $x$ as a function of time (**x vs t**)\n",
    "2. $y$ as a function of time (**y vs t**)\n",
    "3. $y$ as a function of $x$. (**y vs x**)\n",
    "\n",
    "### Plot requirements\n",
    "Each plot must have:\n",
    "\n",
    "1. A plot title\n",
    "2. An $x$-axis label\n",
    "3. A $y$-axis label\n",
    "\n",
    "**Remember** in order to make plots, you need to import the `pyplot` module from `matplotlib`. You also need a special line of code to make the plots show up. If you can't remember the right commands, talk with your group to figure it out!\n",
    "\n",
    "**Important note**: By default, every time you call `plt.plot()` the plot will be added to whatever the current `matplotlib` figure is. In order to make the plots show up separately, **put each plot call in a separate cell for now**. We'll figure out a better ways to deal with multiple plots soon."
   ]
  },
  {
   "cell_type": "code",
   "execution_count": null,
   "metadata": {},
   "outputs": [],
   "source": [
    "# Put your code here and create new notebook cells as necessary\n"
   ]
  },
  {
   "cell_type": "markdown",
   "metadata": {},
   "source": [
    "---\n",
    "**Question 2**: At roughly what time does the projectile impact the ground, if we assume the ground to be where $y=0$? **Hint**: Try adding a `plt.grid()` after your plot commands to add a grid to the plot. This can be helpful for seeing where the zero point is."
   ]
  },
  {
   "cell_type": "markdown",
   "metadata": {},
   "source": [
    "< Answer here >"
   ]
  },
  {
   "cell_type": "markdown",
   "metadata": {},
   "source": [
    "---\n",
    "**Question 3**: Roughly how far in the $x$-direction does the projectile travel in that amount of time?"
   ]
  },
  {
   "cell_type": "markdown",
   "metadata": {},
   "source": [
    "< Answer here >"
   ]
  },
  {
   "cell_type": "markdown",
   "metadata": {},
   "source": [
    "---\n",
    "**Question 4**: Try changing the angle to see how the distance that the projectile travels changes. What angle will make the projectile go the furthest in the $x$ direction?"
   ]
  },
  {
   "cell_type": "markdown",
   "metadata": {},
   "source": [
    "< Answer here >"
   ]
  },
  {
   "cell_type": "code",
   "execution_count": null,
   "metadata": {},
   "outputs": [],
   "source": [
    "# Put your code here if you want to test\n"
   ]
  },
  {
   "cell_type": "markdown",
   "metadata": {},
   "source": [
    "### Putting all of the plots in the same figure using `subplots()`\n",
    "\n",
    "`matplotlib` comes with a handy way to put mutiple plots in the same figure. The function that does this is called `subplots` and is part of the `pyplot` module. The command for making a `subplots` figure is something like this:\n",
    "\n",
    "`figure, axes = plt.subplots(3,1)`\n",
    "\n",
    "The above command creates and returns a `figure` with 3 plots in it arranged in 3 rows and 1 columns, which can be accessed with the `axes` variable. The `axes` variable is actually an array (which you can think of as a list for now) of axis objects where plots can be made.  The following bit of code provides an example of how the `subplots` function can be used. **Make sure you read and understand what the code is doing!**\n",
    "\n",
    "You may also find this page of `subplots` examples useful: https://matplotlib.org/examples/pylab_examples/subplots_demo.html "
   ]
  },
  {
   "cell_type": "code",
   "execution_count": 14,
   "metadata": {},
   "outputs": [
    {
     "data": {
      "image/png": "[encoded data removed]",
      "text/plain": [
       "<Figure size 432x288 with 3 Axes>"
      ]
     },
     "metadata": {
      "needs_background": "light"
     },
     "output_type": "display_data"
    }
   ],
   "source": [
    "xpoints = [1,2,3,4,5]\n",
    "ypoints = [2,4,6,8,10]\n",
    "zpoints = [3,6,9,12,15]\n",
    "\n",
    "figure, axes = plt.subplots(3,1)\n",
    "\n",
    "axes[0].plot(xpoints,ypoints)\n",
    "axes[0].set_xlabel('x')\n",
    "axes[0].set_ylabel('y')\n",
    "axes[1].plot(ypoints,zpoints)\n",
    "axes[1].set_xlabel('y')\n",
    "axes[1].set_ylabel('z')\n",
    "axes[2].plot(xpoints,zpoints)\n",
    "axes[2].set_xlabel('x')\n",
    "axes[2].set_ylabel('z')\n",
    "\n",
    "plt.tight_layout()"
   ]
  },
  {
   "cell_type": "markdown",
   "metadata": {},
   "source": [
    "Notice how each of the above three plots are made. The axes variable can be indexed just like a list and each plot is made using the `plot` function and a different index value for the `axes` variable. The syntax for setting the axis labels is a little bit different than just using normal `plt` calls, so make sure you look carefully at that."
   ]
  },
  {
   "cell_type": "markdown",
   "metadata": {},
   "source": [
    "---\n",
    "**Question 5**: What does the last command, `plt.tight_layout()` in the example code do? Try commenting it out to see how it changes things."
   ]
  },
  {
   "cell_type": "markdown",
   "metadata": {},
   "source": [
    "< Answer here >"
   ]
  },
  {
   "cell_type": "markdown",
   "metadata": {},
   "source": [
    "### Reproducing your projectile motion plots from above\n",
    "\n",
    "Now you're going to use the `subplots` function to reproduce your projectile motion plots from above so that they are all on the same figure. Try to do the following:\n",
    "\n",
    "1. Make a `subplots` figure with the 3 plots **all in one row horizontally**. Your three plots you should be:\n",
    "    - $x$ vs time\n",
    "    - $y$ vs time\n",
    "    - $y$ vs $x$\n",
    "    \n",
    "2. Use a *different line color* for each plot.\n",
    "3. Use a *thick, dashed line* for the $y$ vs $x$ plot.\n",
    "4. Label all of your plots appropriately.\n",
    "5. Make sure each plots contains a grid by using the `grid()` function."
   ]
  },
  {
   "cell_type": "code",
   "execution_count": null,
   "metadata": {},
   "outputs": [],
   "source": [
    "# Put your code here\n"
   ]
  },
  {
   "cell_type": "markdown",
   "metadata": {},
   "source": [
    "---\n",
    "## Part 2: Modeling and visualizing population growth\n",
    "\n",
    "Now that we've spent a while looking at projectile motion, we're going to model another evolving system -- the human population. One possible model for population growth is called a *logistic model*. For this model, the growth of the population as a function of time, $t$, can be modeled using the following equation:\n",
    "\n",
    "$$P(t) = \\frac{K}{1 + Ae^{-kt}}$$\n",
    "\n",
    "where \n",
    "\n",
    "$$A = \\frac{K-P_{0}}{P_{0}}$$\n",
    "\n",
    "The variable $K$ represents the *carrying capacity* of the population, which is the maximum population that the environment can sustain, and $k$ is the relative growth rate coefficient. $P_{0}$ is the initial value of the population at $t=0$.\n",
    "\n",
    "Remember that the exponential, $e$, can be computed using the math module, `math.exp()`."
   ]
  },
  {
   "cell_type": "markdown",
   "metadata": {},
   "source": [
    "---\n",
    "**Question 1:** **Write a function** that takes a **list** of times in years, an initial population, $P_{0}$, a carrying capacity, $K$, and a relative growth rate, $k$, and **returns** a list of the corresponding population values."
   ]
  },
  {
   "cell_type": "code",
   "execution_count": null,
   "metadata": {},
   "outputs": [],
   "source": [
    "# Put your function here\n"
   ]
  },
  {
   "cell_type": "markdown",
   "metadata": {},
   "source": [
    "**Question 2:** Let's assume for now that **the carrying capacity, $K$, is 12 billion** and that we'll start with an **initial population of 1 billion**, which was roughly the population in year 1800.\n",
    "\n",
    "Using your function, **model the population growth for a total of 300 years** for five values of $k$. Specifically, compute the models for:\n",
    "\n",
    "$k =$ 0.01, 0.02, 0.03, 0.04, and 0.05\n",
    "\n",
    "You can assume a time step size of 1 year.\n",
    "\n",
    "Put the lines for **all five** growth models on the **same plot**. Use `plt.legend()` to add a legend to the plot so that you know which line is which. You'll want to use the `label` parameter in your plot command to make sure the legend has the appropriate labels for the lines.\n",
    "\n",
    "**Make sure to add appropriate axis labels and a plot title.**"
   ]
  },
  {
   "cell_type": "code",
   "execution_count": null,
   "metadata": {},
   "outputs": [],
   "source": [
    "# Put your function here\n"
   ]
  },
  {
   "cell_type": "markdown",
   "metadata": {},
   "source": [
    "**Question 3**: Do the population models behave as you would expect? Specifically, for the larger values of $k$, does it approach, but not exceed the carrying capacity, $K$?"
   ]
  },
  {
   "cell_type": "markdown",
   "metadata": {},
   "source": [
    "< Answer here >"
   ]
  },
  {
   "cell_type": "markdown",
   "metadata": {},
   "source": [
    "**Question 4**: If the human population was roughly 7 billion in 2012, what would be the value of $k$ that would most closely match that population at that time given the current parameters of the model?"
   ]
  },
  {
   "cell_type": "markdown",
   "metadata": {},
   "source": [
    "< Answer here >"
   ]
  },
  {
   "cell_type": "markdown",
   "metadata": {},
   "source": [
    "### Plot modifications\n",
    "\n",
    "Now, modify your plot in the following ways:\n",
    "\n",
    "1. Instead of plotting each model as a line, plot the models as individual points without lines connecting the points. Use the \"star\" symbol for the points. **Hint**: this can be done with both the standard `plot` function as well as with the `scatter` function.\n",
    "2. Rescale the $x$ and $y$ range of the plot so that you only see the first 25 years of values on the $x$-axis and a population range of 0.5 billion to 3 billion on the $y$-axis. **Hint**: you'll want to use the `xlim` and `ylim` functions in `pyplot`.\n",
    "\n",
    "**Make sure you still include the legend in your plot and that the axes have appropriate labels!**"
   ]
  },
  {
   "cell_type": "markdown",
   "metadata": {},
   "source": [
    "---\n",
    "### Assignment wrap-up\n",
    "\n",
    "I hope you enjoy all these exercises! Make sure you try (doesn't matter if you fail along the way!) everything and **take notes** of what you're confused of.\n",
    "\n",
    "Be sure to **send me an email or text** of *all* the things you understand (and most importantly) don't understand! I'll make sure to address them and emphasize more on our in-class session."
   ]
  },
  {
   "cell_type": "markdown",
   "metadata": {},
   "source": [
    "-----\n",
    "# Congratulations, you're done with your first in-class assignment!"
   ]
  },
  {
   "cell_type": "markdown",
   "metadata": {},
   "source": [
    "&#169; Copyright 2020,  Amani Ahnuar"
   ]
  }
 ],
 "metadata": {
  "kernelspec": {
   "display_name": "Python 3",
   "language": "python",
   "name": "python3"
  },
  "language_info": {
   "codemirror_mode": {
    "name": "ipython",
    "version": 3
   },
   "file_extension": ".py",
   "mimetype": "text/x-python",
   "name": "python",
   "nbconvert_exporter": "python",
   "pygments_lexer": "ipython3",
   "version": "3.8.3"
  }
 },
 "nbformat": 4,
 "nbformat_minor": 2
}
