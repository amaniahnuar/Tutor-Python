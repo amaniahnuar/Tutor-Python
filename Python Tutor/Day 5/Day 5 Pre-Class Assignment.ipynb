{
 "cells": [
  {
   "cell_type": "markdown",
   "metadata": {},
   "source": [
    "# Day 5 Pre-Class Assignment: Python Modules: Math and Plots\n",
    "<img src=\"https://upload.wikimedia.org/wikipedia/en/thumb/5/56/Matplotlib_logo.svg/1280px-Matplotlib_logo.svg.png\" width=\"500px\">"
   ]
  },
  {
   "cell_type": "markdown",
   "metadata": {},
   "source": [
    "### Goals for this pre-class assignment\n",
    "By the end of this assignment, you should be able to:\n",
    "* Import modules into Python and understand how to use them.\n",
    "* Use Python's <code>math</code> module to do simple calculations\n",
    "* Use <code>matplotlib</code> and the <code>pyplot</code> submodule to make plots."
   ]
  },
  {
   "cell_type": "markdown",
   "metadata": {},
   "source": [
    "---\n",
    "### Some possibly useful links\n",
    "\n",
    "Before we dive into the pre-class assignment, here are some links that might be useful if you're looking to learn some extra iPython (which is what the Jupyter Notebooks are built on) and Jupyter Notebook skills:  \n",
    "\n",
    "* [IPython tutorial](http://ipython.readthedocs.org/en/stable/interactive/tutorial.html) -- this contains some *very* useful suggestions about IPython commands that allow you to get help on Python, figure out what specific variables or objects do, and many other things.\n",
    "\n",
    "* [Jupyter notebook tips and tricks](http://blog.dominodatalab.com/lesser-known-ways-of-using-notebooks/) -- some clever things you can do with Jupyter notebooks\n",
    "\n",
    "* [Another Jupyter notebook tip page](http://jupyter.cs.brynmawr.edu/hub/dblank/public/Jupyter%20Magics.ipynb)"
   ]
  },
  {
   "cell_type": "markdown",
   "metadata": {},
   "source": [
    "---\n",
    "## Python Modules\n",
    "The following video introduces the concept of Python \"modules\" which are extra software libraries that you can import into your Python environment in order to add new functionality to Python that it doesn't have by default. Python modules are often created because they include commonly used and generally useful code, like mathematical functions or plotting routines. You may have noticed that we've actually already been using one module quite regularly, the <code>YouTubeVideo</code> module.\n",
    "\n",
    "Watch the video and then answer the questions below."
   ]
  },
  {
   "cell_type": "code",
   "execution_count": null,
   "metadata": {},
   "outputs": [],
   "source": [
    "# Imports the functionality that we need to display YouTube videos in a Jupyter Notebook.  \n",
    "# You need to run this cell before you run ANY of the YouTube videos.\n",
    "from IPython.display import YouTubeVideo\n",
    "\n",
    "# Video on Modules in Python\n",
    "# Make sure to watch it in full-screen mode!\n",
    "YouTubeVideo(\"chBLLNBGoEE\",width=640,height=360)  # modules and pyplot"
   ]
  },
  {
   "cell_type": "markdown",
   "metadata": {},
   "source": [
    "### Useful references:\n",
    "In addition to the video, the following reference may be useful for your pre-class and in-class assignments:\n",
    "\n",
    "* [The Python math module](https://docs.python.org/3/library/math.html) - contains a list of math commands\n",
    "* [The matplotlib website](http://matplotlib.org/index.html) - where you can find all information about the matplotlib package\n",
    "* [The matplotlib gallery](http://matplotlib.org/gallery.html) - lots of cool visualizations that can be made with matplotlib\n",
    "* [The Pyplot tutorial](http://matplotlib.org/users/pyplot_tutorial.html) - the pyplot tutorial.  A good place to get started.\n",
    "* [A summary of pyplot commands](http://matplotlib.org/api/pyplot_summary.html) - more extensive documentation on pyplot."
   ]
  },
  {
   "cell_type": "markdown",
   "metadata": {},
   "source": [
    "---\n",
    "## Working with matplotlib\n",
    "---\n",
    "**Question 1:**\n",
    "The cell below contains **four** lists of data, which correspond to two sets of X and Y values.  Use matplotlib to make a plot of these datasets. Make your plot with the following guidelines:\n",
    "\n",
    "* The first pair of lists (x1, y1) should be drawn with a ***thick*, blue, dashed line**.\n",
    "* The second pair of lists (x2, y2) should be drawn with **red diamonds**.\n",
    "* Make the width of the plot extend from 0 to 20 and height of the plot extend from 6 to 16. This will help make the image bit easier to see.\n",
    "* Add axis labels to the x and y axes, with whatever text you like.\n",
    "\n",
    "Use the [Pyplot Tutorial](http://matplotlib.org/users/pyplot_tutorial.html) for inspiration, and in particular you can find instructions on how to create different types of characters and line types in the [pyplot 'plot' command documentation](http://matplotlib.org/api/pyplot_api.html#matplotlib.pyplot.plot).\n",
    "\n",
    "**Note**: It is important to remember that any time you need a module, you **need to import it**. A good coding practice is to put all of your import commands at the top of your code block. Try to get into the habit of always importing the modules you are going to need **first**, before writing the rest of your code. If you realize you need another module, add it to your list at the top, don't just insert it into the body of the code randomly.\n",
    "\n",
    "**Another Note**: Your plots might look different than the ones in the video because <code>matplotlib</code> has been updated to a new version since that video was made."
   ]
  },
  {
   "cell_type": "code",
   "execution_count": null,
   "metadata": {},
   "outputs": [],
   "source": [
    "# imports the pyplot module from matplotlib\n",
    "import matplotlib.pyplot as plt    \n",
    "\n",
    "x1 = [2,4,6,8,10,12,14,16,18]\n",
    "y1 = [10,8.25,7.5,7,6.75,7,7.5,8.25,10]\n",
    "\n",
    "x2 = [5, 15]\n",
    "y2 = [15, 15]\n",
    "\n",
    "# put your plotting commands below this comment!"
   ]
  },
  {
   "cell_type": "markdown",
   "metadata": {},
   "source": [
    "## Using the math module to compute new values and matplotlib to plot them\n",
    "\n",
    "Now we want you to try to use various components of everything you just learned in the video, and things you've learned in class up to this point, to make a new plot. This will require that you use the <code>math</code> module, the <code>pyplot</code> module, and probably loop (or two).\n",
    "\n",
    "---\n",
    "**Question 2**: Using the values from the `x1` list above, make a plot of $f(x) = \\sin(x)$ using __a green line__ and $f(x) = \\cos(x)$ using __an orange line__. Label your plot so that the __x-axis reads \"x\"__, and the __y-axis reads \"f(x)\"__.\n",
    "\n",
    "**Hint**: The first step will be to figure out a way to calculate the sine and cosine values of <code>x1</code> and store them. You might want to review how the <code>append</code> function works for lists.\n",
    "\n",
    "**Extra challenge**: See if you can figure out how to use the `label` parameter in the `plt.plot()` function and the `plt.legend()` command to add a legend your plot that identifies each line appropriately."
   ]
  },
  {
   "cell_type": "code",
   "execution_count": null,
   "metadata": {},
   "outputs": [],
   "source": [
    "# put your python commands here, make sure to include comments in your code using the \"#\" symbol\n"
   ]
  },
  {
   "cell_type": "markdown",
   "metadata": {},
   "source": [
    "---\n",
    "**Question 3**: Now that you've been able to plot some functions that _look_ like sine and cosine, we want to make them look __more__ like sine and cosine by calculating more data points for our curves. One way of doing this is to create a list of values that we will pass to the sine or cosine function. We created a list called `x1` for you that you used for the plots you made above, but it didn't have enough values to make the curves look very smooth (we fired the person that made that list).\n",
    "\n",
    "Your goal is to **create a list called `x_list` of $x$-values from 0 to $2\\pi$** (you might want to use the math module for obtaining a value for $\\pi$) with a spacing of 0.1 between each value. Then plot cosine and sine over this interval with the same axis labels and colors as the plot you made above. \n",
    "\n",
    "**Hint**: To create your list, consider using a while-loop, that stops once the increment has surpassed $2\\pi$. The while-loop should  _append_ new values to `x_list`, starting at 0 and adding 0.1, appending that to the list, then adding 0.1 to the previous value, appending that value to the list, and so on. We will see other methods of creating lists like this in the future by some other very helpful modules. (Please do not hard code the values of your list by hand, use loops.)"
   ]
  },
  {
   "cell_type": "code",
   "execution_count": null,
   "metadata": {},
   "outputs": [],
   "source": [
    "# put your python commands here, make sure to include comments in your code using the \"#\" symbol\n"
   ]
  },
  {
   "cell_type": "markdown",
   "metadata": {},
   "source": [
    "---\n",
    "## Assignment wrap-up\n",
    "\n",
    "I hope you enjoy all these videos and exercises! Make sure you try (doesn't matter if you fail along the way!) everything and **take notes** of what you're confused of.\n",
    "\n",
    "Be sure to **send me an email or text** of *all* the things you understand (and most importantly) don't understand! I'll make sure to address them and emphasize more on our in-class session."
   ]
  },
  {
   "cell_type": "markdown",
   "metadata": {},
   "source": [
    "-----\n",
    "# Congratulations, you're done with your first in-class assignment!"
   ]
  },
  {
   "cell_type": "markdown",
   "metadata": {},
   "source": [
    "&#169; Copyright 2020,  Amani Ahnuar"
   ]
  }
 ],
 "metadata": {
  "kernelspec": {
   "display_name": "Python 3",
   "language": "python",
   "name": "python3"
  },
  "language_info": {
   "codemirror_mode": {
    "name": "ipython",
    "version": 3
   },
   "file_extension": ".py",
   "mimetype": "text/x-python",
   "name": "python",
   "nbconvert_exporter": "python",
   "pygments_lexer": "ipython3",
   "version": "3.8.3"
  }
 },
 "nbformat": 4,
 "nbformat_minor": 2
}
