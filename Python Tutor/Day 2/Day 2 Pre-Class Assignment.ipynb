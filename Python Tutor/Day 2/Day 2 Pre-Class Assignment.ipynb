{
 "cells": [
  {
   "cell_type": "markdown",
   "metadata": {},
   "source": [
    "# Day 2 Pre-class Assignment:Lists and Loops\n",
    "---"
   ]
  },
  {
   "cell_type": "markdown",
   "metadata": {},
   "source": [
    "## Goals for Today's Pre-Class Assignment\n",
    "\n",
    "* Create and manipulate lists in Python\n",
    "* Write `for` loops and `while` loops in Python\n",
    "* Combine lists and loops to compute new values."
   ]
  },
  {
   "cell_type": "markdown",
   "metadata": {},
   "source": [
    "---\n",
    "### Some possibly useful links and information\n",
    "\n",
    "Before we dive into the pre-class assignment, here are some links that might be useful if you're looking to learn some extra iPython (which is what the Jupyter Notebooks are built on) and Jupyter Notebook skills:  \n",
    "\n",
    "* [IPython tutorial](http://ipython.readthedocs.org/en/stable/interactive/tutorial.html) -- this contains some *very* useful suggestions about IPython commands that allow you to get help on Python, figure out what specific variables or objects do, and many other things.\n",
    "\n",
    "* [Jupyter notebook tips and tricks](http://blog.dominodatalab.com/lesser-known-ways-of-using-notebooks/) -- some clever things you can do with Jupyter notebooks\n",
    "\n",
    "* [Another Jupyter notebook tip page](http://jupyter.cs.brynmawr.edu/hub/dblank/public/Jupyter%20Magics.ipynb)\n",
    "\n",
    "Also, if you want to start using keyboard shortcuts in Jupyter Notebooks to make your life easier and more efficient, **try pressing `ESC` to enter command mode and then press `H`**. This will bring up the list of the keyboard shortcuts. Some of the useful shortcuts include `A` and `B`, which insert cells into the notebook \"above\" and \"below\" the current cell, respectively. `X` is also useful for cutting out cells that you don't need."
   ]
  },
  {
   "cell_type": "markdown",
   "metadata": {},
   "source": [
    "---\n",
    "## Part 1: List in Python"
   ]
  },
  {
   "cell_type": "markdown",
   "metadata": {},
   "source": [
    "Here's a handy note for you to refer later on!\n",
    "\n",
    "|Container Type|Mutable or Immutable|Initialization *Without* Values|Initializtion *With* Values|Adding Values to Container|Removing Values from Container|Modifying Values|Access Method        |Notable Operations and Additional Information|\n",
    "|:----------|:----------|:----------|:----------|:----------|:----------|:----------|:----------|:----------|\n",
    "|**List** $\\hspace{0.5in}$| Mutable $\\hspace{0.5in}$|<ul><li>`a=list()` </li><li> `a=[]` </li></ul> $\\hspace{1.0in}$| `a=['1', '2', '3']` $\\hspace{1.5in}$|  <ul><li>` list.append(item) #Adds item to the end of the list` </li><li> ` list.insert(index, item) #Adds item to the specified index in the list`</li></ul> $\\hspace{2.5in}$|`list.remove(item) #removes the first instance of 'item' from the list. If there is not such an element, this will cause an error` $\\hspace{2.0in}$|`>>> a[0] = 'cat'` <br> `>>> a` <br> `['cat', '2', '3']` $\\hspace{1.5in}$|Access by index: <br> `>>> a[0]` <br> `1` $\\hspace{1.2in}$|See webpage at [here](http://www.linuxtopia.org/online_books/programming_books/python_programming/python_ch14s07.html) for some helpful methods when dealing with lists. $\\hspace{1.5in}$|"
   ]
  },
  {
   "cell_type": "markdown",
   "metadata": {},
   "source": [
    "&#9989; Do This - **Run** the cell below and watch the YouTube video"
   ]
  },
  {
   "cell_type": "code",
   "execution_count": 1,
   "metadata": {
    "scrolled": false
   },
   "outputs": [
    {
     "data": {
      "image/jpeg": "[encoded data removed]",
      "text/html": [
       "\n",
       "        <iframe\n",
       "            width=\"640\"\n",
       "            height=\"360\"\n",
       "            src=\"https://www.youtube.com/embed/7gOZUzsXOgE\"\n",
       "            frameborder=\"0\"\n",
       "            allowfullscreen\n",
       "        ></iframe>\n",
       "        "
      ],
      "text/plain": [
       "<IPython.lib.display.YouTubeVideo at 0x1e9cbd8bdc0>"
      ]
     },
     "execution_count": 1,
     "metadata": {},
     "output_type": "execute_result"
    }
   ],
   "source": [
    "# Imports the functionality that we need to display YouTube videos in a Jupyter notebook.  \n",
    "# You need to run this cell before you run ANY of the YouTube videos.\n",
    "from IPython.display import YouTubeVideo\n",
    "\n",
    "# Watch this video to learn about the list type in Python \n",
    "YouTubeVideo(\"7gOZUzsXOgE\",width=640,height=360)"
   ]
  },
  {
   "cell_type": "markdown",
   "metadata": {},
   "source": [
    "**Question 1:**  In the cell below, create a list that contains, in this order:\n",
    "\n",
    "   1. Your first name as a string\n",
    "   2. Your age as a floating-point number in years. Include one decimal point of precision and a comment about how you calcuated the decimal value.\n",
    "   3. Your room or apartment number as an integer\n",
    "\n",
    "* Print this list out.  \n",
    "* Replace your first name in the list with your last name, and replace your age with the current year as an integer.\n",
    "* Append one or more new variables (anything you like), print out the length of the list using the `len()` function, and then print out the entire list again."
   ]
  },
  {
   "cell_type": "code",
   "execution_count": 2,
   "metadata": {},
   "outputs": [],
   "source": [
    "# Write your program here, using multiple cells if necessary. Add extra cells using\n",
    "# the 'Cell' menu at the top of this notebook or by using the keyboard shortcut. Don't forget that you can execute \n",
    "# your program by holding down 'shift' and pressing 'enter' in each cell!\n"
   ]
  },
  {
   "cell_type": "markdown",
   "metadata": {},
   "source": [
    "---\n",
    "## Part 2: For loops and While loops\n"
   ]
  },
  {
   "cell_type": "markdown",
   "metadata": {},
   "source": [
    "### Part 2.1: For loops\n",
    "\n",
    "Watch the following video, which introduces the concepts of <code>for</code> loops and how they work in Python. After you watch the video, answer the questions below."
   ]
  },
  {
   "cell_type": "markdown",
   "metadata": {},
   "source": [
    "&#9989; Do This - **Run** the cell below and watch the YouTube video"
   ]
  },
  {
   "cell_type": "code",
   "execution_count": 3,
   "metadata": {},
   "outputs": [
    {
     "data": {
      "image/jpeg": "[encoded data removed]",
      "text/html": [
       "\n",
       "        <iframe\n",
       "            width=\"640\"\n",
       "            height=\"360\"\n",
       "            src=\"https://www.youtube.com/embed/XVLXJBj9lok\"\n",
       "            frameborder=\"0\"\n",
       "            allowfullscreen\n",
       "        ></iframe>\n",
       "        "
      ],
      "text/plain": [
       "<IPython.lib.display.YouTubeVideo at 0x1e9cbda9df0>"
      ]
     },
     "execution_count": 3,
     "metadata": {},
     "output_type": "execute_result"
    }
   ],
   "source": [
    "# Video on \"for\" loops in Python\n",
    "# Make sure to watch it in full-screen mode!\n",
    "YouTubeVideo(\"XVLXJBj9lok\",width=640,height=360)"
   ]
  },
  {
   "cell_type": "markdown",
   "metadata": {},
   "source": [
    "**Question 2**: Write a for loop that prints the numbers 0 through 9 in the cell below."
   ]
  },
  {
   "cell_type": "code",
   "execution_count": 4,
   "metadata": {},
   "outputs": [],
   "source": [
    "# put your code here!\n"
   ]
  },
  {
   "cell_type": "markdown",
   "metadata": {},
   "source": [
    "**Question 3**: Write a for loop that iterates through the items in the `python_bag` list provided in the cell below and prints each item."
   ]
  },
  {
   "cell_type": "code",
   "execution_count": 5,
   "metadata": {},
   "outputs": [],
   "source": [
    "python_bag = [\"Amani\", 24, \"Tutoring Day 3\", \"Lists\",\n",
    "            \"Loops\", 3.0, \"challenge\"]\n",
    "\n",
    "# put your code here!\n"
   ]
  },
  {
   "cell_type": "markdown",
   "metadata": {},
   "source": [
    "### Part 2.2: While loops\n",
    "\n",
    "Watch the following video clip, which introduces the concept of <code>while</code> loops in Python. After you watch the video, answer the questions below."
   ]
  },
  {
   "cell_type": "markdown",
   "metadata": {},
   "source": [
    "&#9989; Do This - **Run** the cell below and watch the YouTube video"
   ]
  },
  {
   "cell_type": "code",
   "execution_count": 6,
   "metadata": {},
   "outputs": [
    {
     "data": {
      "image/jpeg": "[encoded data removed]",
      "text/html": [
       "\n",
       "        <iframe\n",
       "            width=\"640\"\n",
       "            height=\"360\"\n",
       "            src=\"https://www.youtube.com/embed/p1IJ5QeHaeY\"\n",
       "            frameborder=\"0\"\n",
       "            allowfullscreen\n",
       "        ></iframe>\n",
       "        "
      ],
      "text/plain": [
       "<IPython.lib.display.YouTubeVideo at 0x1e9cbe0a670>"
      ]
     },
     "execution_count": 6,
     "metadata": {},
     "output_type": "execute_result"
    }
   ],
   "source": [
    "# Video on \"while\" loops in Python\n",
    "# Make sure to watch it in full-screen mode!\n",
    "YouTubeVideo(\"p1IJ5QeHaeY\",width=640,height=360)"
   ]
  },
  {
   "cell_type": "markdown",
   "metadata": {},
   "source": [
    "**Question 4**: Write a <code>while</code> loop that starts with a value of \"<code>x = 2</code>\", multiples <code>x</code> by 2 for each iteration, prints the value of <code>x</code>, and runs until <code>x</code> is greater than 4096."
   ]
  },
  {
   "cell_type": "code",
   "execution_count": 7,
   "metadata": {},
   "outputs": [],
   "source": [
    "# put your code here!\n"
   ]
  },
  {
   "cell_type": "markdown",
   "metadata": {},
   "source": [
    "---\n",
    "## Part 3: Combining lists and loops.\n",
    "\n",
    "**Question 5**: Now we want you to try to use various components of everything you just learned to calculate some values. The cell below includes two lists of values, `x` and `y`.\n",
    "\n",
    "Your task is to create two new empty lists, `xsquared` and `ycubed`, iterate through the lists using loops to compute $x^2$ and $y^3$, and store these values in your new lists. Once you've computed all the values, print out the results.\n",
    "\n",
    "**Yes**, this might seem a bit complicated -- that's totally expected. After all, you're still learning to write code! If you find yourself spending too much time to figure this out, make use of Slack or try to drop by office hours or help room hours.\n",
    "\n",
    "**Hint**: You'll have to use `append()` and `**`. Do `x` first and then do for `y`"
   ]
  },
  {
   "cell_type": "code",
   "execution_count": 8,
   "metadata": {},
   "outputs": [],
   "source": [
    "x = [2, 4, 6, 8,1 0, 12, 14, 16, 18]\n",
    "y = [10, 8.25, 7.5, 7, 6.5, 7, 7.5, 8.25, 10]\n",
    "\n",
    "# Put your commands for intializing your new lists below this comment\n",
    "\n",
    "# Put your loop(s) for computing x-squared and y-cubed below these comments.\n",
    "# You'll be using .append() to add new values to the lists you just initialized.\n"
   ]
  },
  {
   "cell_type": "markdown",
   "metadata": {},
   "source": [
    "---\n",
    "### Assignment wrap-up\n",
    "\n",
    "I hope you enjoy all these videos and exercises! Make sure you try (doesn't matter if you fail along the way!) everything and **take notes** of what you're confused of.\n",
    "\n",
    "Be sure to **send me an email or text** of *all* the things you understand (and most importantly) don't understand! I'll make sure to address them and emphasize more on our in-class session."
   ]
  },
  {
   "cell_type": "markdown",
   "metadata": {},
   "source": [
    "-----\n",
    "# Congratulations, you're done with your first in-class assignment!"
   ]
  },
  {
   "cell_type": "markdown",
   "metadata": {},
   "source": [
    "&#169; Copyright 2020,  Amani Ahnuar"
   ]
  }
 ],
 "metadata": {
  "kernelspec": {
   "display_name": "Python 3",
   "language": "python",
   "name": "python3"
  },
  "language_info": {
   "codemirror_mode": {
    "name": "ipython",
    "version": 3
   },
   "file_extension": ".py",
   "mimetype": "text/x-python",
   "name": "python",
   "nbconvert_exporter": "python",
   "pygments_lexer": "ipython3",
   "version": "3.8.3"
  }
 },
 "nbformat": 4,
 "nbformat_minor": 2
}
